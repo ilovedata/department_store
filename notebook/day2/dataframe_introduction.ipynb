{
  "cells": [
    {
      "cell_type": "markdown",
      "metadata": {
        "id": "Fc30wsNsNBZI"
      },
      "source": [
        "# 데이터프레임의 정의"
      ]
    },
    {
      "cell_type": "markdown",
      "metadata": {
        "id": "3lVYjvy0fX64"
      },
      "source": [
        "실제 데이터를 다루기 전에 데이터프레임은 무엇인지 짚고 넘어갈 필요가 있습니다."
      ]
    },
    {
      "cell_type": "code",
      "execution_count": 1,
      "metadata": {
        "id": "ylrtQRv32qap"
      },
      "outputs": [],
      "source": [
        "import pandas as pd"
      ]
    },
    {
      "cell_type": "markdown",
      "metadata": {
        "id": "yfSME8jD0vuB"
      },
      "source": [
        "## 정의"
      ]
    },
    {
      "cell_type": "markdown",
      "metadata": {
        "id": "TclbAxdgK7z3"
      },
      "source": [
        "이제 데이터프레임을 정의해 보자. 다음은 5명의 이름, 성별, 나이, 키가 저장된 데이터프레임을 직접 만드는 코드이다.  "
      ]
    },
    {
      "cell_type": "code",
      "execution_count": 2,
      "metadata": {
        "colab": {
          "base_uri": "https://localhost:8080/",
          "height": 0
        },
        "id": "9_bBF_a5Kqu7",
        "outputId": "693d2597-c744-40fa-ecf9-d4e08acd429c"
      },
      "outputs": [
        {
          "data": {
            "text/html": [
              "<div>\n",
              "<style scoped>\n",
              "    .dataframe tbody tr th:only-of-type {\n",
              "        vertical-align: middle;\n",
              "    }\n",
              "\n",
              "    .dataframe tbody tr th {\n",
              "        vertical-align: top;\n",
              "    }\n",
              "\n",
              "    .dataframe thead th {\n",
              "        text-align: right;\n",
              "    }\n",
              "</style>\n",
              "<table border=\"1\" class=\"dataframe\">\n",
              "  <thead>\n",
              "    <tr style=\"text-align: right;\">\n",
              "      <th></th>\n",
              "      <th>name</th>\n",
              "      <th>gender</th>\n",
              "      <th>age</th>\n",
              "      <th>height</th>\n",
              "    </tr>\n",
              "  </thead>\n",
              "  <tbody>\n",
              "    <tr>\n",
              "      <th>0</th>\n",
              "      <td>이철수</td>\n",
              "      <td>M</td>\n",
              "      <td>23</td>\n",
              "      <td>153.5</td>\n",
              "    </tr>\n",
              "    <tr>\n",
              "      <th>1</th>\n",
              "      <td>김영희</td>\n",
              "      <td>F</td>\n",
              "      <td>25</td>\n",
              "      <td>175.3</td>\n",
              "    </tr>\n",
              "    <tr>\n",
              "      <th>2</th>\n",
              "      <td>홍길동</td>\n",
              "      <td>M</td>\n",
              "      <td>21</td>\n",
              "      <td>163.4</td>\n",
              "    </tr>\n",
              "    <tr>\n",
              "      <th>3</th>\n",
              "      <td>John Smith</td>\n",
              "      <td>M</td>\n",
              "      <td>33</td>\n",
              "      <td>180.0</td>\n",
              "    </tr>\n",
              "    <tr>\n",
              "      <th>4</th>\n",
              "      <td>Mary Doe</td>\n",
              "      <td>F</td>\n",
              "      <td>45</td>\n",
              "      <td>165.7</td>\n",
              "    </tr>\n",
              "  </tbody>\n",
              "</table>\n",
              "</div>"
            ],
            "text/plain": [
              "         name gender  age  height\n",
              "0         이철수      M   23   153.5\n",
              "1         김영희      F   25   175.3\n",
              "2         홍길동      M   21   163.4\n",
              "3  John Smith      M   33   180.0\n",
              "4    Mary Doe      F   45   165.7"
            ]
          },
          "execution_count": 2,
          "metadata": {},
          "output_type": "execute_result"
        }
      ],
      "source": [
        "df = pd.DataFrame(\n",
        "    { 'name' : ['이철수', '김영희', '홍길동', 'John Smith', 'Mary Doe'],\n",
        "      'gender'  : ['M', 'F', 'M', 'M', 'F'],\n",
        "      'age'  : [ 23, 25, 21, 33, 45],\n",
        "      'height' : [153.5, 175.3, 163.4, 180.0, 165.7]\n",
        "    } )\n",
        "\n",
        "df"
      ]
    },
    {
      "cell_type": "code",
      "execution_count": 3,
      "metadata": {
        "colab": {
          "base_uri": "https://localhost:8080/"
        },
        "id": "t7TMVvhOgbLs",
        "outputId": "044e04df-3712-49a9-fec4-2fe816a94cb6"
      },
      "outputs": [
        {
          "data": {
            "text/plain": [
              "pandas.core.frame.DataFrame"
            ]
          },
          "execution_count": 3,
          "metadata": {},
          "output_type": "execute_result"
        }
      ],
      "source": [
        "type(df)"
      ]
    },
    {
      "cell_type": "markdown",
      "metadata": {
        "id": "Pb5M9GywRA_5"
      },
      "source": [
        "> 각 행을 나타내는 인덱스는 0으로 시작하는 정수 0,1,2,3,4 로 나타나고 각 열을 나타내는 인덱스(열이름)는\n",
        "문자열로 나타나며 `name`,\t`gender`,\t`age`,\t`height` 로 나타난다."
      ]
    },
    {
      "cell_type": "markdown",
      "metadata": {
        "id": "Jec6EJMNNdBh"
      },
      "source": [
        "위의 코드는 5명의 학생의 이름(name), 성별(gender), 나이(age), 키(height)로 구성된 5개의 행과 4개 열을 가진 데이터프레임 `df` 이다. `pd.DataFrame()` 는 `pd` 로 지정된 `pandas` 라이브러리의 함수 `DataFrame()` 을 사용하겠다는 의미이다. 라이브러리의 함수 `DataFrame`의 괄호 안에 인자는 괄호 `{` 로 시작하여 괄호 `}` 로 끝나는 표현식이 들어 간다.\n",
        "\n",
        "괄호 `{}` 안에 있는 표현식은 사전(dictionary) 형식의 데이터를 만들어 준다.\n",
        "\n",
        "- 괄호 `{}` 안에 있는 첫 번째 요소는 이름을 나타내는 열을 만드는 표현식이며 열이름은 `name` 이고 원소들은 문자열(`str`)로 구성된 리스트이다.\n",
        "\n",
        "```\n",
        "'name' : ['이철수', '김영희', '홍길동', 'John Smith', 'Mary Doe']\n",
        "```\n",
        "\n",
        "-  괄호 `{}` 안에 있는 두 번째 요소는 성별을 나타내는 열을 만드는 표현식이며 열이름은 `gender` 이고 원소들은 문자열 `M` 과 `F` 로 구성된 리스트이다.\n",
        "\n",
        "```\n",
        "'gender'  : ['M', 'F', 'M', 'M', 'F']\n",
        "```\n",
        "\n",
        "- 괄호 `{}` 안에 있는 세 번째 요소는 나이을 나타내는 열을 만드는 표현식이며 열이름은 `age` 이고 원소들은 정수(`int`)로 구성된 리스트이다.\n",
        "\n",
        "```\n",
        "'age'  : [ 23, 25, 21, 33, 45]\n",
        "```\n",
        "\n",
        "- 괄호 `{}` 안에 있는 네 번째 요소는 키를 나타내는 열을 만드는 표현식이며 열이름은 `height` 이고 원소들은 부동소수점(`float`)로 구성된 리스트이다.\n",
        "\n",
        "```\n",
        "'height' : [153.5, 175.3, 163.4, 180.0, 165.7]\n",
        "```\n",
        "\n",
        "각 열을 나타내는 4개의 요소는 쉼표 `,` 로 분리한다.\n"
      ]
    },
    {
      "cell_type": "markdown",
      "metadata": {
        "id": "DAi24beGfdJv"
      },
      "source": [
        "## 열(column) 선택"
      ]
    },
    {
      "cell_type": "markdown",
      "metadata": {
        "id": "IcrDvLZoO8pZ"
      },
      "source": [
        "데이터프레임에서 다음과 같이 괄호 `[]` 안에 열이름 또는 열이름으로 구성된 리스트를 넣어서 일부의 열을 선택할 수 있다. 이 경우 열이름은 문자열이어야 한다.\n",
        "\n",
        "데이터프레임에서 열 또는 행의 일부를 선택하여 추출하는 작업을 **슬라이싱(slicing)** 이라고 한다.\n",
        "\n"
      ]
    },
    {
      "cell_type": "code",
      "execution_count": 4,
      "metadata": {
        "colab": {
          "base_uri": "https://localhost:8080/"
        },
        "id": "-pK-jjn3NUEr",
        "outputId": "fe7caf3d-5e21-486e-a587-7a6437035e78"
      },
      "outputs": [
        {
          "data": {
            "text/plain": [
              "0           이철수\n",
              "1           김영희\n",
              "2           홍길동\n",
              "3    John Smith\n",
              "4      Mary Doe\n",
              "Name: name, dtype: object"
            ]
          },
          "execution_count": 4,
          "metadata": {},
          "output_type": "execute_result"
        }
      ],
      "source": [
        "df['name']"
      ]
    },
    {
      "cell_type": "code",
      "execution_count": 5,
      "metadata": {
        "colab": {
          "base_uri": "https://localhost:8080/",
          "height": 206
        },
        "id": "6iPSIFL3OgSR",
        "outputId": "321df1cf-ac98-490b-abe2-6ef53cdfad29"
      },
      "outputs": [
        {
          "data": {
            "text/html": [
              "<div>\n",
              "<style scoped>\n",
              "    .dataframe tbody tr th:only-of-type {\n",
              "        vertical-align: middle;\n",
              "    }\n",
              "\n",
              "    .dataframe tbody tr th {\n",
              "        vertical-align: top;\n",
              "    }\n",
              "\n",
              "    .dataframe thead th {\n",
              "        text-align: right;\n",
              "    }\n",
              "</style>\n",
              "<table border=\"1\" class=\"dataframe\">\n",
              "  <thead>\n",
              "    <tr style=\"text-align: right;\">\n",
              "      <th></th>\n",
              "      <th>age</th>\n",
              "      <th>height</th>\n",
              "    </tr>\n",
              "  </thead>\n",
              "  <tbody>\n",
              "    <tr>\n",
              "      <th>0</th>\n",
              "      <td>23</td>\n",
              "      <td>153.5</td>\n",
              "    </tr>\n",
              "    <tr>\n",
              "      <th>1</th>\n",
              "      <td>25</td>\n",
              "      <td>175.3</td>\n",
              "    </tr>\n",
              "    <tr>\n",
              "      <th>2</th>\n",
              "      <td>21</td>\n",
              "      <td>163.4</td>\n",
              "    </tr>\n",
              "    <tr>\n",
              "      <th>3</th>\n",
              "      <td>33</td>\n",
              "      <td>180.0</td>\n",
              "    </tr>\n",
              "    <tr>\n",
              "      <th>4</th>\n",
              "      <td>45</td>\n",
              "      <td>165.7</td>\n",
              "    </tr>\n",
              "  </tbody>\n",
              "</table>\n",
              "</div>"
            ],
            "text/plain": [
              "   age  height\n",
              "0   23   153.5\n",
              "1   25   175.3\n",
              "2   21   163.4\n",
              "3   33   180.0\n",
              "4   45   165.7"
            ]
          },
          "execution_count": 5,
          "metadata": {},
          "output_type": "execute_result"
        }
      ],
      "source": [
        "df[['age', 'height']]"
      ]
    },
    {
      "cell_type": "markdown",
      "metadata": {
        "id": "X8wOYUH6SWta"
      },
      "source": [
        "하나의 열만 슬라이싱하는 경우는 데이터프레임 이름 뒤에 마침표를 붙이고 열이름을 붙이면 된다."
      ]
    },
    {
      "cell_type": "code",
      "execution_count": 6,
      "metadata": {
        "colab": {
          "base_uri": "https://localhost:8080/"
        },
        "id": "u3yWecAXSWOf",
        "outputId": "7a5360e2-8c9a-48a2-b3f9-783aaa2a7c9b"
      },
      "outputs": [
        {
          "data": {
            "text/plain": [
              "0    23\n",
              "1    25\n",
              "2    21\n",
              "3    33\n",
              "4    45\n",
              "Name: age, dtype: int64"
            ]
          },
          "execution_count": 6,
          "metadata": {},
          "output_type": "execute_result"
        }
      ],
      "source": [
        "df.age"
      ]
    },
    {
      "cell_type": "markdown",
      "metadata": {
        "id": "3y2mvOuCfhAK"
      },
      "source": [
        "## 행(row) 선택"
      ]
    },
    {
      "cell_type": "markdown",
      "metadata": {
        "id": "XLVAHvk4TQW0"
      },
      "source": [
        "이제 특정한 성질을 가진 행, 즉 자료의 구성 단위의 일부만을 선택해 보자. 데이터프레임 뒤 괄호 `[]` 안에 비교연산자를 이용한 조건 표현식을 넣어주면 조건이 만족하는 행만 추출된다.\n",
        "\n"
      ]
    },
    {
      "cell_type": "markdown",
      "metadata": {
        "id": "q-_-0jp6KNf-"
      },
      "source": [
        "성별이 남자인 사람만 추출해보자.\n",
        "\n",
        "데이터프레임에 5명의 사람의 정보가 행으로 들어가 있으니 각 사람마다 남자인지 아닌지 판단을 해야 하는 조건 표현식이 필요합니다.\n",
        "\n",
        "위에서 언급한 조건 표현식은 `df['gender'] == 'M'` 로서 `df['gender']` 의 자료를 각각 문자열 `M` 과 비교하여 참이면 `True`, 거짓이면 `False` 로 결과를 생성한다.\n",
        "\n"
      ]
    },
    {
      "cell_type": "code",
      "execution_count": 7,
      "metadata": {
        "colab": {
          "base_uri": "https://localhost:8080/"
        },
        "id": "KPx4XlKPKY85",
        "outputId": "99baca87-9081-4be2-818b-a196cde9aa21"
      },
      "outputs": [
        {
          "data": {
            "text/plain": [
              "0     True\n",
              "1    False\n",
              "2     True\n",
              "3     True\n",
              "4    False\n",
              "Name: gender, dtype: bool"
            ]
          },
          "execution_count": 7,
          "metadata": {},
          "output_type": "execute_result"
        }
      ],
      "source": [
        "df['gender'] == 'M'"
      ]
    },
    {
      "cell_type": "markdown",
      "metadata": {
        "id": "KK5N3jaS6hfD"
      },
      "source": [
        "여기서 `True`가 0,2,3 번째에서 3명 `False`가 1,4 번째에서 2명이 반환된다.\n",
        "\n",
        "비교연산자는 `True`값이 반환된 행만 추출해준다. 이것을 행 슬라이싱이라 한다."
      ]
    },
    {
      "cell_type": "code",
      "execution_count": 8,
      "metadata": {
        "colab": {
          "base_uri": "https://localhost:8080/",
          "height": 142
        },
        "id": "y7cDjwtgSU2p",
        "outputId": "2435a2fc-3466-4702-a375-5a5b56ee1d45"
      },
      "outputs": [
        {
          "data": {
            "text/html": [
              "<div>\n",
              "<style scoped>\n",
              "    .dataframe tbody tr th:only-of-type {\n",
              "        vertical-align: middle;\n",
              "    }\n",
              "\n",
              "    .dataframe tbody tr th {\n",
              "        vertical-align: top;\n",
              "    }\n",
              "\n",
              "    .dataframe thead th {\n",
              "        text-align: right;\n",
              "    }\n",
              "</style>\n",
              "<table border=\"1\" class=\"dataframe\">\n",
              "  <thead>\n",
              "    <tr style=\"text-align: right;\">\n",
              "      <th></th>\n",
              "      <th>name</th>\n",
              "      <th>gender</th>\n",
              "      <th>age</th>\n",
              "      <th>height</th>\n",
              "    </tr>\n",
              "  </thead>\n",
              "  <tbody>\n",
              "    <tr>\n",
              "      <th>0</th>\n",
              "      <td>이철수</td>\n",
              "      <td>M</td>\n",
              "      <td>23</td>\n",
              "      <td>153.5</td>\n",
              "    </tr>\n",
              "    <tr>\n",
              "      <th>2</th>\n",
              "      <td>홍길동</td>\n",
              "      <td>M</td>\n",
              "      <td>21</td>\n",
              "      <td>163.4</td>\n",
              "    </tr>\n",
              "    <tr>\n",
              "      <th>3</th>\n",
              "      <td>John Smith</td>\n",
              "      <td>M</td>\n",
              "      <td>33</td>\n",
              "      <td>180.0</td>\n",
              "    </tr>\n",
              "  </tbody>\n",
              "</table>\n",
              "</div>"
            ],
            "text/plain": [
              "         name gender  age  height\n",
              "0         이철수      M   23   153.5\n",
              "2         홍길동      M   21   163.4\n",
              "3  John Smith      M   33   180.0"
            ]
          },
          "execution_count": 8,
          "metadata": {},
          "output_type": "execute_result"
        }
      ],
      "source": [
        "df[ df['gender'] == 'M' ]"
      ]
    },
    {
      "cell_type": "markdown",
      "metadata": {
        "id": "swy2Vv2feVuk"
      },
      "source": [
        "자료에서 선택해야할 경우의 수가 많은 경우 다음과 같은 `.isin()` 메소드를 사용할 수 있다. `.isin` 함수의 괄호 안에 선택할 문자 또는 숫자를 리스트 형태로 넣어준다.\n",
        "\n",
        "예를 들어 나이가 25세와 33세인 사람만 슬라이싱 해보자."
      ]
    },
    {
      "cell_type": "markdown",
      "metadata": {
        "id": "-BZIpU9ENHWs"
      },
      "source": [
        "우선 조건문을 보자\n",
        "\n",
        "각 행마다 `age`가 25 또는 33 인지 확인하고 둘 중 하나가 맞디면 `True`, 그렇지 않으면 `False`를 반환한다."
      ]
    },
    {
      "cell_type": "code",
      "execution_count": 9,
      "metadata": {
        "colab": {
          "base_uri": "https://localhost:8080/"
        },
        "id": "h6Kub41uNKJS",
        "outputId": "3bcccb55-f82a-4d49-ef69-7f37b8f63334"
      },
      "outputs": [
        {
          "data": {
            "text/plain": [
              "0    False\n",
              "1     True\n",
              "2    False\n",
              "3     True\n",
              "4    False\n",
              "Name: age, dtype: bool"
            ]
          },
          "execution_count": 9,
          "metadata": {},
          "output_type": "execute_result"
        }
      ],
      "source": [
        "df['age'].isin([25,33])"
      ]
    },
    {
      "cell_type": "markdown",
      "metadata": {
        "id": "pal145rRNMCT"
      },
      "source": [
        "이렇게 반환된 `True`,`False`중 `True`의 행만 추출해주는 것을 볼 수 있다.\n",
        "\n"
      ]
    },
    {
      "cell_type": "code",
      "execution_count": 10,
      "metadata": {
        "colab": {
          "base_uri": "https://localhost:8080/",
          "height": 110
        },
        "id": "cngS144AeWSv",
        "outputId": "1f6f29bf-1af7-485f-a84d-fce6ee38575d"
      },
      "outputs": [
        {
          "data": {
            "text/html": [
              "<div>\n",
              "<style scoped>\n",
              "    .dataframe tbody tr th:only-of-type {\n",
              "        vertical-align: middle;\n",
              "    }\n",
              "\n",
              "    .dataframe tbody tr th {\n",
              "        vertical-align: top;\n",
              "    }\n",
              "\n",
              "    .dataframe thead th {\n",
              "        text-align: right;\n",
              "    }\n",
              "</style>\n",
              "<table border=\"1\" class=\"dataframe\">\n",
              "  <thead>\n",
              "    <tr style=\"text-align: right;\">\n",
              "      <th></th>\n",
              "      <th>name</th>\n",
              "      <th>gender</th>\n",
              "      <th>age</th>\n",
              "      <th>height</th>\n",
              "    </tr>\n",
              "  </thead>\n",
              "  <tbody>\n",
              "    <tr>\n",
              "      <th>1</th>\n",
              "      <td>김영희</td>\n",
              "      <td>F</td>\n",
              "      <td>25</td>\n",
              "      <td>175.3</td>\n",
              "    </tr>\n",
              "    <tr>\n",
              "      <th>3</th>\n",
              "      <td>John Smith</td>\n",
              "      <td>M</td>\n",
              "      <td>33</td>\n",
              "      <td>180.0</td>\n",
              "    </tr>\n",
              "  </tbody>\n",
              "</table>\n",
              "</div>"
            ],
            "text/plain": [
              "         name gender  age  height\n",
              "1         김영희      F   25   175.3\n",
              "3  John Smith      M   33   180.0"
            ]
          },
          "execution_count": 10,
          "metadata": {},
          "output_type": "execute_result"
        }
      ],
      "source": [
        "df[ df['age'].isin([25,33]) ]"
      ]
    },
    {
      "cell_type": "markdown",
      "metadata": {
        "id": "etKpxTzKUvU2"
      },
      "source": [
        "이번에는 조건문을 2개 썼을 경우이다.\n",
        "\n",
        "만약 키가 160 이상인 남자 구성원만 슬라이싱 하려면 다음과 같은 명령어를 사용한다.\n",
        "\n",
        "어떻게 이런 결과값이 나오는 지 확인해본다.\n"
      ]
    },
    {
      "cell_type": "code",
      "execution_count": 11,
      "metadata": {
        "colab": {
          "base_uri": "https://localhost:8080/"
        },
        "id": "cGkCL53aOgkB",
        "outputId": "5fa40c43-850e-4802-8b52-b7495e869c23"
      },
      "outputs": [
        {
          "data": {
            "text/plain": [
              "0    False\n",
              "1    False\n",
              "2     True\n",
              "3     True\n",
              "4    False\n",
              "dtype: bool"
            ]
          },
          "execution_count": 11,
          "metadata": {},
          "output_type": "execute_result"
        }
      ],
      "source": [
        "(df['gender'] == 'M') & (df['height'] >= 160.0)"
      ]
    },
    {
      "cell_type": "markdown",
      "metadata": {
        "id": "SeF7IaKVOTIh"
      },
      "source": [
        "우선 성별이 남자인 조건문의 반환값이다."
      ]
    },
    {
      "cell_type": "code",
      "execution_count": 12,
      "metadata": {
        "colab": {
          "base_uri": "https://localhost:8080/"
        },
        "id": "9Jw8A08NOBot",
        "outputId": "3727b705-a4c0-44c9-8b81-b492df021d8b"
      },
      "outputs": [
        {
          "data": {
            "text/plain": [
              "0     True\n",
              "1    False\n",
              "2     True\n",
              "3     True\n",
              "4    False\n",
              "Name: gender, dtype: bool"
            ]
          },
          "execution_count": 12,
          "metadata": {},
          "output_type": "execute_result"
        }
      ],
      "source": [
        "df['gender'] == 'M'"
      ]
    },
    {
      "cell_type": "markdown",
      "metadata": {
        "id": "rCVyPeOxOuHA"
      },
      "source": [
        "다음은 키가 160이상인 조건문의 반환값이다."
      ]
    },
    {
      "cell_type": "code",
      "execution_count": 13,
      "metadata": {
        "colab": {
          "base_uri": "https://localhost:8080/"
        },
        "id": "iOsVpNY4ONe4",
        "outputId": "3ab9a27c-4be4-4ea8-b69b-6217da08dc0f"
      },
      "outputs": [
        {
          "data": {
            "text/plain": [
              "0    False\n",
              "1     True\n",
              "2     True\n",
              "3     True\n",
              "4     True\n",
              "Name: height, dtype: bool"
            ]
          },
          "execution_count": 13,
          "metadata": {},
          "output_type": "execute_result"
        }
      ],
      "source": [
        "df['height'] >= 160.0"
      ]
    },
    {
      "cell_type": "markdown",
      "metadata": {
        "id": "0x7uykkoO2Lw"
      },
      "source": [
        "조건문이 2개 이고 여기선 `&`를 썼으므로 둘다 만족했을 때 `True`를 반환해준다.\n",
        "\n",
        "*   `True` `&` `True` 이면 `True`를 반환\n",
        "*   `Ture` `&` `False` 이면 `False`를 반환\n",
        "*   `False` `&` `False` 이면 `False`를 반환\n",
        "\n",
        "그러므로 둘 다 `True`를 만족하는 행은 2,3 번째 행뿐이므로 2개의 행만 반환한다."
      ]
    },
    {
      "cell_type": "code",
      "execution_count": 14,
      "metadata": {
        "colab": {
          "base_uri": "https://localhost:8080/",
          "height": 110
        },
        "id": "xUVV09kWUMFl",
        "outputId": "e145b5c3-166a-45f7-b4f3-6a70e8be2ff2"
      },
      "outputs": [
        {
          "data": {
            "text/html": [
              "<div>\n",
              "<style scoped>\n",
              "    .dataframe tbody tr th:only-of-type {\n",
              "        vertical-align: middle;\n",
              "    }\n",
              "\n",
              "    .dataframe tbody tr th {\n",
              "        vertical-align: top;\n",
              "    }\n",
              "\n",
              "    .dataframe thead th {\n",
              "        text-align: right;\n",
              "    }\n",
              "</style>\n",
              "<table border=\"1\" class=\"dataframe\">\n",
              "  <thead>\n",
              "    <tr style=\"text-align: right;\">\n",
              "      <th></th>\n",
              "      <th>name</th>\n",
              "      <th>gender</th>\n",
              "      <th>age</th>\n",
              "      <th>height</th>\n",
              "    </tr>\n",
              "  </thead>\n",
              "  <tbody>\n",
              "    <tr>\n",
              "      <th>2</th>\n",
              "      <td>홍길동</td>\n",
              "      <td>M</td>\n",
              "      <td>21</td>\n",
              "      <td>163.4</td>\n",
              "    </tr>\n",
              "    <tr>\n",
              "      <th>3</th>\n",
              "      <td>John Smith</td>\n",
              "      <td>M</td>\n",
              "      <td>33</td>\n",
              "      <td>180.0</td>\n",
              "    </tr>\n",
              "  </tbody>\n",
              "</table>\n",
              "</div>"
            ],
            "text/plain": [
              "         name gender  age  height\n",
              "2         홍길동      M   21   163.4\n",
              "3  John Smith      M   33   180.0"
            ]
          },
          "execution_count": 14,
          "metadata": {},
          "output_type": "execute_result"
        }
      ],
      "source": [
        "df[ (df['gender'] == 'M') & (df['height'] >= 160.0) ]"
      ]
    },
    {
      "cell_type": "markdown",
      "metadata": {
        "id": "uOeVV8eWVSqO"
      },
      "source": [
        "이번에는 2개의 조건문 중에 하나 이상이 맞으면 슬라이싱하는 방법을 본다.\n",
        "\n",
        "만약 나이가 30세 이하 또는 키가 160 미만인 행만 슬라이싱 하려면 다음과 같은 명령어를 사용한다.\n",
        "\n",
        "이런 경우 `|` 즉 `or` 를 써서 둘 중 하나이상 맞으면 `True`를 반환하게 끔 해준다.\n",
        "\n",
        "*   `True` `|` `True` 이면 `True`를 반환\n",
        "*   `Ture` `|` `False` 이면 `True`를 반환\n",
        "*   `False` `|` `False` 이면 `False`를 반환"
      ]
    },
    {
      "cell_type": "markdown",
      "metadata": {
        "id": "H3HB4VfRQfXj"
      },
      "source": [
        "첫번 째 조건문에서 만족하는 행은 0,1,2"
      ]
    },
    {
      "cell_type": "code",
      "execution_count": 15,
      "metadata": {
        "colab": {
          "base_uri": "https://localhost:8080/"
        },
        "id": "RFBxUQdeQZjV",
        "outputId": "07d915e0-b67e-47e0-8a4b-d1f0603f9f32"
      },
      "outputs": [
        {
          "data": {
            "text/plain": [
              "0     True\n",
              "1     True\n",
              "2     True\n",
              "3    False\n",
              "4    False\n",
              "Name: age, dtype: bool"
            ]
          },
          "execution_count": 15,
          "metadata": {},
          "output_type": "execute_result"
        }
      ],
      "source": [
        "df['age'] <= 30"
      ]
    },
    {
      "cell_type": "markdown",
      "metadata": {
        "id": "GaTOhhfGQqoT"
      },
      "source": [
        "두번 째 조건문에서 만족하는 행은 0"
      ]
    },
    {
      "cell_type": "code",
      "execution_count": 16,
      "metadata": {
        "colab": {
          "base_uri": "https://localhost:8080/"
        },
        "id": "Cd9tGfLoQcWj",
        "outputId": "5d70af76-b918-432d-9cba-276df3066a04"
      },
      "outputs": [
        {
          "data": {
            "text/plain": [
              "0     True\n",
              "1    False\n",
              "2    False\n",
              "3    False\n",
              "4    False\n",
              "Name: height, dtype: bool"
            ]
          },
          "execution_count": 16,
          "metadata": {},
          "output_type": "execute_result"
        }
      ],
      "source": [
        "df['height'] < 160.0"
      ]
    },
    {
      "cell_type": "markdown",
      "metadata": {
        "id": "13atSA9pQuKC"
      },
      "source": [
        "두 조건문 중 한개라도 맞는 행은 0,1,2"
      ]
    },
    {
      "cell_type": "code",
      "execution_count": 17,
      "metadata": {
        "colab": {
          "base_uri": "https://localhost:8080/"
        },
        "id": "CgEa_s3oQ0UF",
        "outputId": "2de249e7-e949-461d-b850-b4cf290a79df"
      },
      "outputs": [
        {
          "data": {
            "text/plain": [
              "0     True\n",
              "1     True\n",
              "2     True\n",
              "3    False\n",
              "4    False\n",
              "dtype: bool"
            ]
          },
          "execution_count": 17,
          "metadata": {},
          "output_type": "execute_result"
        }
      ],
      "source": [
        "(df['age'] <= 30) | (df['height'] < 160.0)"
      ]
    },
    {
      "cell_type": "markdown",
      "metadata": {
        "id": "lYuynU21Q3EJ"
      },
      "source": [
        "최종 0,1,2 번째 행이 반환되는 걸 알 수 있다."
      ]
    },
    {
      "cell_type": "code",
      "execution_count": 18,
      "metadata": {
        "colab": {
          "base_uri": "https://localhost:8080/",
          "height": 142
        },
        "id": "Gl10fzVBVCVh",
        "outputId": "b4e7b980-2fc6-47fd-b62e-d2f18286ac54"
      },
      "outputs": [
        {
          "data": {
            "text/html": [
              "<div>\n",
              "<style scoped>\n",
              "    .dataframe tbody tr th:only-of-type {\n",
              "        vertical-align: middle;\n",
              "    }\n",
              "\n",
              "    .dataframe tbody tr th {\n",
              "        vertical-align: top;\n",
              "    }\n",
              "\n",
              "    .dataframe thead th {\n",
              "        text-align: right;\n",
              "    }\n",
              "</style>\n",
              "<table border=\"1\" class=\"dataframe\">\n",
              "  <thead>\n",
              "    <tr style=\"text-align: right;\">\n",
              "      <th></th>\n",
              "      <th>name</th>\n",
              "      <th>gender</th>\n",
              "      <th>age</th>\n",
              "      <th>height</th>\n",
              "    </tr>\n",
              "  </thead>\n",
              "  <tbody>\n",
              "    <tr>\n",
              "      <th>0</th>\n",
              "      <td>이철수</td>\n",
              "      <td>M</td>\n",
              "      <td>23</td>\n",
              "      <td>153.5</td>\n",
              "    </tr>\n",
              "    <tr>\n",
              "      <th>1</th>\n",
              "      <td>김영희</td>\n",
              "      <td>F</td>\n",
              "      <td>25</td>\n",
              "      <td>175.3</td>\n",
              "    </tr>\n",
              "    <tr>\n",
              "      <th>2</th>\n",
              "      <td>홍길동</td>\n",
              "      <td>M</td>\n",
              "      <td>21</td>\n",
              "      <td>163.4</td>\n",
              "    </tr>\n",
              "  </tbody>\n",
              "</table>\n",
              "</div>"
            ],
            "text/plain": [
              "  name gender  age  height\n",
              "0  이철수      M   23   153.5\n",
              "1  김영희      F   25   175.3\n",
              "2  홍길동      M   21   163.4"
            ]
          },
          "execution_count": 18,
          "metadata": {},
          "output_type": "execute_result"
        }
      ],
      "source": [
        "df[ (df['age'] <= 30) | (df['height'] < 160.0) ]"
      ]
    },
    {
      "cell_type": "markdown",
      "metadata": {
        "id": "1FSxejY6V3P9"
      },
      "source": [
        "데이터프레임에서 행을 조건에 따라서 슬라이싱 할 때 다음과 같은 규칙을 따른다.\n",
        "\n",
        "- 비교연산자 `<`, `<=`, `>`, `>=`, `!=`, `==` 을 사용한다.\n",
        "- 두 개 이상의 비교 표현식을 연결할 경우 **또는(OR)** 은 `|` 을 사용하고 **그리고(AND)** 는 `&` 를 사용한다.\n",
        "- 비교 표현식을 연결할 경우 표현식은 언제나 괄호 `()` 로 묶어준다.\n",
        "\n",
        "참고로 두 개 이상의 비교 표현식을 연결할 경우 사용하는 연산자 `|` 와 `&` 는 비트단위연산자(bit-wise operator) 라고 부른다. 데이터프레임에 조건식을 사용하여 슬라이싱 할 경우 논리연산자 `or` 와 `and` 는 사용할 수 없다."
      ]
    },
    {
      "cell_type": "markdown",
      "metadata": {
        "id": "hJDILVuIfn4f"
      },
      "source": [
        "## 행과 열 선택"
      ]
    },
    {
      "cell_type": "markdown",
      "metadata": {
        "id": "fAv4nDGtX1Sd"
      },
      "source": [
        "이제 특정한 열과 행을 동시에 슬라이싱 해보자.\n",
        "\n",
        "만약 키가 170 이상인 사람들의 이름이 필요하면 다음과 같이 슬라이싱할 수 있다. 괄호에서 첫 부분은 행에 대한 조건을 쓰고 컴마 `,` 로 분리한 후 열이름를 써준다.\n",
        "\n",
        "여기서 유의해할 점은 행과 열을 동시에 슬라이싱할 경우 테이터프레임 이름 뒤에 `.loc`를 붙여주어야 한다. 만약 붙여주지 않으면 오류가 발생한다."
      ]
    },
    {
      "cell_type": "code",
      "execution_count": 19,
      "metadata": {
        "colab": {
          "base_uri": "https://localhost:8080/"
        },
        "id": "7wBN3MNgV1ee",
        "outputId": "da8372ad-3908-40c2-fa79-cc72d69a5b70"
      },
      "outputs": [
        {
          "data": {
            "text/plain": [
              "1           김영희\n",
              "3    John Smith\n",
              "Name: name, dtype: object"
            ]
          },
          "execution_count": 19,
          "metadata": {},
          "output_type": "execute_result"
        }
      ],
      "source": [
        "df_1 = df.loc[ (df['height'] >= 170.0) , 'name']\n",
        "df_1"
      ]
    },
    {
      "cell_type": "code",
      "execution_count": 20,
      "metadata": {
        "colab": {
          "base_uri": "https://localhost:8080/",
          "height": 142
        },
        "id": "gWX1M0VQY4SV",
        "outputId": "a1df1a8f-ef1c-4883-9cda-1bf5bed5d98c"
      },
      "outputs": [
        {
          "data": {
            "text/html": [
              "<div>\n",
              "<style scoped>\n",
              "    .dataframe tbody tr th:only-of-type {\n",
              "        vertical-align: middle;\n",
              "    }\n",
              "\n",
              "    .dataframe tbody tr th {\n",
              "        vertical-align: top;\n",
              "    }\n",
              "\n",
              "    .dataframe thead th {\n",
              "        text-align: right;\n",
              "    }\n",
              "</style>\n",
              "<table border=\"1\" class=\"dataframe\">\n",
              "  <thead>\n",
              "    <tr style=\"text-align: right;\">\n",
              "      <th></th>\n",
              "      <th>name</th>\n",
              "      <th>height</th>\n",
              "    </tr>\n",
              "  </thead>\n",
              "  <tbody>\n",
              "    <tr>\n",
              "      <th>0</th>\n",
              "      <td>이철수</td>\n",
              "      <td>153.5</td>\n",
              "    </tr>\n",
              "    <tr>\n",
              "      <th>2</th>\n",
              "      <td>홍길동</td>\n",
              "      <td>163.4</td>\n",
              "    </tr>\n",
              "    <tr>\n",
              "      <th>3</th>\n",
              "      <td>John Smith</td>\n",
              "      <td>180.0</td>\n",
              "    </tr>\n",
              "  </tbody>\n",
              "</table>\n",
              "</div>"
            ],
            "text/plain": [
              "         name  height\n",
              "0         이철수   153.5\n",
              "2         홍길동   163.4\n",
              "3  John Smith   180.0"
            ]
          },
          "execution_count": 20,
          "metadata": {},
          "output_type": "execute_result"
        }
      ],
      "source": [
        "df.loc[ (df['gender'] == 'M') , ['name', 'height']]"
      ]
    },
    {
      "cell_type": "markdown",
      "metadata": {
        "id": "p4fjUNIZZqde"
      },
      "source": [
        "데이터프레임의 행과 열에 대한 인덱스를 숫자로 사용하여 슬라이싱하려면 데이터프레임 이름 뒤에 `iloc` 을 붙여주고 괄호 `[]` 안에 행과 열 순서의 위치를 써주면 된다. 이 경우 파이썬은 모든 위치는 0으로 시작하는데 유의하자.  \n",
        "\n",
        "하나의 위치가 아닌 여러개의 연속적인 위치는 `x:y` 형태이 범위 형식을 사용하여 지칭한다. 모든 열과 행을 지칭하는 경우 공란으로 넣거나 `:`을 사용한다."
      ]
    },
    {
      "cell_type": "code",
      "execution_count": 21,
      "metadata": {
        "colab": {
          "base_uri": "https://localhost:8080/",
          "height": 35
        },
        "id": "zBXWUl1vZjVU",
        "outputId": "da04acce-fe9e-487d-c8e1-164f08e35448"
      },
      "outputs": [
        {
          "data": {
            "text/plain": [
              "'이철수'"
            ]
          },
          "execution_count": 21,
          "metadata": {},
          "output_type": "execute_result"
        }
      ],
      "source": [
        "df.iloc[0,0]"
      ]
    },
    {
      "cell_type": "code",
      "execution_count": 22,
      "metadata": {
        "colab": {
          "base_uri": "https://localhost:8080/"
        },
        "id": "EbhKwF5BaVAq",
        "outputId": "de82cccf-4a43-47ad-9867-60b7b09ac210"
      },
      "outputs": [
        {
          "data": {
            "text/plain": [
              "165.7"
            ]
          },
          "execution_count": 22,
          "metadata": {},
          "output_type": "execute_result"
        }
      ],
      "source": [
        "df.iloc[4,3]"
      ]
    },
    {
      "cell_type": "code",
      "execution_count": 23,
      "metadata": {
        "colab": {
          "base_uri": "https://localhost:8080/"
        },
        "id": "WMmP613xbtS9",
        "outputId": "4bf9349d-650c-4be6-addf-0f1eccc40111"
      },
      "outputs": [
        {
          "data": {
            "text/plain": [
              "gender     M\n",
              "age       33\n",
              "Name: 3, dtype: object"
            ]
          },
          "execution_count": 23,
          "metadata": {},
          "output_type": "execute_result"
        }
      ],
      "source": [
        "df.iloc[3,1:3]"
      ]
    },
    {
      "cell_type": "code",
      "execution_count": 24,
      "metadata": {
        "colab": {
          "base_uri": "https://localhost:8080/"
        },
        "id": "K85B-I4OaYPX",
        "outputId": "e12664eb-c369-4116-af0a-6f556cca1b8b"
      },
      "outputs": [
        {
          "data": {
            "text/plain": [
              "0    23\n",
              "1    25\n",
              "2    21\n",
              "3    33\n",
              "4    45\n",
              "Name: age, dtype: int64"
            ]
          },
          "execution_count": 24,
          "metadata": {},
          "output_type": "execute_result"
        }
      ],
      "source": [
        "df.iloc[:,2]"
      ]
    },
    {
      "cell_type": "code",
      "execution_count": 25,
      "metadata": {
        "colab": {
          "base_uri": "https://localhost:8080/"
        },
        "id": "JXtdJfVVgyOS",
        "outputId": "93826d28-053e-40fb-ccfc-c6c45060b9e2"
      },
      "outputs": [
        {
          "data": {
            "text/plain": [
              "name        이철수\n",
              "gender        M\n",
              "age          23\n",
              "height    153.5\n",
              "Name: 0, dtype: object"
            ]
          },
          "execution_count": 25,
          "metadata": {},
          "output_type": "execute_result"
        }
      ],
      "source": [
        "df.iloc[0,:]"
      ]
    },
    {
      "cell_type": "markdown",
      "metadata": {
        "id": "OxFRgBOb7Kek"
      },
      "source": [
        "## 가계금융복지조사 데이터\n",
        "\n",
        "실제 데이터로 실습해봅시다. 사용할 데이터는 통계청에서 제공하는 2016년 가계금융복지조사 자료의 일부입니다.\n",
        "\n",
        "[가계금융복지조사](https://kostat.go.kr/board.es?mid=a10301040300&bid=215&act=view&list_no=422053)는 가계의 자산, 부채, 소득, 지출 등을 조사하여 국민의 생활수준과 가계의 재무건전성을 분석하여 정부와 금융당국이 복지와 금융 정책을 추진하는 데 이용하는 등 다양한 목적으로 활용됩니다.\n",
        "\n",
        "가계금융복지조사에서 모든 화폐의 단위는 **만원(10,000)** 이다.\n",
        "\n",
        "이 노트에서 사용되는 자료는 실제 조사자료와 다소 차이가 있으며 가중치를 고려하지 않는 자료임을 유의합니다."
      ]
    },
    {
      "cell_type": "markdown",
      "metadata": {
        "id": "IKGxIJlN87W0"
      },
      "source": [
        "### 데이터 불러오기"
      ]
    },
    {
      "cell_type": "markdown",
      "metadata": {
        "id": "HPEzwwX_8-ab"
      },
      "source": [
        "데이터를 불러오기 위해 `pandas` 패키기가 필요합니다. \\\n",
        "그 안에 `read_csv` 라는 함수를 써서 csv 파일을 불러올 수 있습니다. \\\n",
        "괄호 `()` 안에 파일경로를 붙여주면 해당경로의 csv파일을 가져옵니다."
      ]
    },
    {
      "cell_type": "code",
      "execution_count": 41,
      "metadata": {
        "colab": {
          "base_uri": "https://localhost:8080/",
          "height": 659
        },
        "id": "eNj4uQa_8BXv",
        "outputId": "5a68f67c-d2c5-421d-847c-c5f9b133e54c"
      },
      "outputs": [
        {
          "data": {
            "text/html": [
              "<div>\n",
              "<style scoped>\n",
              "    .dataframe tbody tr th:only-of-type {\n",
              "        vertical-align: middle;\n",
              "    }\n",
              "\n",
              "    .dataframe tbody tr th {\n",
              "        vertical-align: top;\n",
              "    }\n",
              "\n",
              "    .dataframe thead th {\n",
              "        text-align: right;\n",
              "    }\n",
              "</style>\n",
              "<table border=\"1\" class=\"dataframe\">\n",
              "  <thead>\n",
              "    <tr style=\"text-align: right;\">\n",
              "      <th></th>\n",
              "      <th>조사연도</th>\n",
              "      <th>가구고유번호</th>\n",
              "      <th>수도권여부</th>\n",
              "      <th>가구주_성별코드</th>\n",
              "      <th>가구원수</th>\n",
              "      <th>노인가구코드</th>\n",
              "      <th>조손가구코드</th>\n",
              "      <th>한부모가구코드</th>\n",
              "      <th>다문화가구코드</th>\n",
              "      <th>장애인가구코드</th>\n",
              "      <th>...</th>\n",
              "      <th>혼인상태코드</th>\n",
              "      <th>입주형태통합코드</th>\n",
              "      <th>전용면적규모코드</th>\n",
              "      <th>주택종류통합코드</th>\n",
              "      <th>부채보유여부</th>\n",
              "      <th>자산금액</th>\n",
              "      <th>부채금액</th>\n",
              "      <th>근로소득</th>\n",
              "      <th>사업소득</th>\n",
              "      <th>재산소득</th>\n",
              "    </tr>\n",
              "  </thead>\n",
              "  <tbody>\n",
              "    <tr>\n",
              "      <th>0</th>\n",
              "      <td>2016</td>\n",
              "      <td>10200111</td>\n",
              "      <td>수도권</td>\n",
              "      <td>남자</td>\n",
              "      <td>4</td>\n",
              "      <td>그 외 가구</td>\n",
              "      <td>그 외 가구</td>\n",
              "      <td>그 외 가구</td>\n",
              "      <td>그 외 가구</td>\n",
              "      <td>그 외 가구</td>\n",
              "      <td>...</td>\n",
              "      <td>배우자있음</td>\n",
              "      <td>자기집</td>\n",
              "      <td>49.6㎡ ~ 86.0㎡ 미만</td>\n",
              "      <td>연립 및 다세대</td>\n",
              "      <td>부채 보유</td>\n",
              "      <td>76202</td>\n",
              "      <td>22200</td>\n",
              "      <td>4000</td>\n",
              "      <td>5000</td>\n",
              "      <td>0</td>\n",
              "    </tr>\n",
              "    <tr>\n",
              "      <th>1</th>\n",
              "      <td>2016</td>\n",
              "      <td>10200121</td>\n",
              "      <td>수도권</td>\n",
              "      <td>남자</td>\n",
              "      <td>4</td>\n",
              "      <td>그 외 가구</td>\n",
              "      <td>그 외 가구</td>\n",
              "      <td>그 외 가구</td>\n",
              "      <td>그 외 가구</td>\n",
              "      <td>그 외 가구</td>\n",
              "      <td>...</td>\n",
              "      <td>미혼</td>\n",
              "      <td>자기집</td>\n",
              "      <td>132.2㎡ 이상</td>\n",
              "      <td>단독주택</td>\n",
              "      <td>부채 보유</td>\n",
              "      <td>116466</td>\n",
              "      <td>45000</td>\n",
              "      <td>3000</td>\n",
              "      <td>0</td>\n",
              "      <td>0</td>\n",
              "    </tr>\n",
              "    <tr>\n",
              "      <th>2</th>\n",
              "      <td>2016</td>\n",
              "      <td>10200151</td>\n",
              "      <td>수도권</td>\n",
              "      <td>여자</td>\n",
              "      <td>3</td>\n",
              "      <td>그 외 가구</td>\n",
              "      <td>그 외 가구</td>\n",
              "      <td>그 외 가구</td>\n",
              "      <td>그 외 가구</td>\n",
              "      <td>그 외 가구</td>\n",
              "      <td>...</td>\n",
              "      <td>배우자있음</td>\n",
              "      <td>자기집</td>\n",
              "      <td>86.0㎡ ~ 132.2㎡ 미만</td>\n",
              "      <td>아파트</td>\n",
              "      <td>부채 보유</td>\n",
              "      <td>125360</td>\n",
              "      <td>8000</td>\n",
              "      <td>12600</td>\n",
              "      <td>0</td>\n",
              "      <td>0</td>\n",
              "    </tr>\n",
              "    <tr>\n",
              "      <th>3</th>\n",
              "      <td>2016</td>\n",
              "      <td>10200161</td>\n",
              "      <td>수도권</td>\n",
              "      <td>남자</td>\n",
              "      <td>5</td>\n",
              "      <td>그 외 가구</td>\n",
              "      <td>그 외 가구</td>\n",
              "      <td>그 외 가구</td>\n",
              "      <td>그 외 가구</td>\n",
              "      <td>그 외 가구</td>\n",
              "      <td>...</td>\n",
              "      <td>배우자있음</td>\n",
              "      <td>자기집</td>\n",
              "      <td>49.6㎡ ~ 86.0㎡ 미만</td>\n",
              "      <td>아파트</td>\n",
              "      <td>부채 보유</td>\n",
              "      <td>79406</td>\n",
              "      <td>25500</td>\n",
              "      <td>0</td>\n",
              "      <td>4200</td>\n",
              "      <td>0</td>\n",
              "    </tr>\n",
              "    <tr>\n",
              "      <th>4</th>\n",
              "      <td>2016</td>\n",
              "      <td>10200171</td>\n",
              "      <td>수도권</td>\n",
              "      <td>남자</td>\n",
              "      <td>2</td>\n",
              "      <td>그 외 가구</td>\n",
              "      <td>그 외 가구</td>\n",
              "      <td>그 외 가구</td>\n",
              "      <td>그 외 가구</td>\n",
              "      <td>그 외 가구</td>\n",
              "      <td>...</td>\n",
              "      <td>배우자있음</td>\n",
              "      <td>자기집</td>\n",
              "      <td>49.6㎡ ~ 86.0㎡ 미만</td>\n",
              "      <td>아파트</td>\n",
              "      <td>부채 보유</td>\n",
              "      <td>45600</td>\n",
              "      <td>27800</td>\n",
              "      <td>12420</td>\n",
              "      <td>0</td>\n",
              "      <td>0</td>\n",
              "    </tr>\n",
              "  </tbody>\n",
              "</table>\n",
              "<p>5 rows × 26 columns</p>\n",
              "</div>"
            ],
            "text/plain": [
              "   조사연도    가구고유번호 수도권여부 가구주_성별코드  가구원수  노인가구코드  조손가구코드 한부모가구코드 다문화가구코드  \\\n",
              "0  2016  10200111   수도권       남자     4  그 외 가구  그 외 가구  그 외 가구  그 외 가구   \n",
              "1  2016  10200121   수도권       남자     4  그 외 가구  그 외 가구  그 외 가구  그 외 가구   \n",
              "2  2016  10200151   수도권       여자     3  그 외 가구  그 외 가구  그 외 가구  그 외 가구   \n",
              "3  2016  10200161   수도권       남자     5  그 외 가구  그 외 가구  그 외 가구  그 외 가구   \n",
              "4  2016  10200171   수도권       남자     2  그 외 가구  그 외 가구  그 외 가구  그 외 가구   \n",
              "\n",
              "  장애인가구코드  ... 혼인상태코드 입주형태통합코드           전용면적규모코드  주택종류통합코드  부채보유여부    자산금액  \\\n",
              "0  그 외 가구  ...  배우자있음      자기집   49.6㎡ ~ 86.0㎡ 미만  연립 및 다세대   부채 보유   76202   \n",
              "1  그 외 가구  ...     미혼      자기집          132.2㎡ 이상      단독주택   부채 보유  116466   \n",
              "2  그 외 가구  ...  배우자있음      자기집  86.0㎡ ~ 132.2㎡ 미만       아파트   부채 보유  125360   \n",
              "3  그 외 가구  ...  배우자있음      자기집   49.6㎡ ~ 86.0㎡ 미만       아파트   부채 보유   79406   \n",
              "4  그 외 가구  ...  배우자있음      자기집   49.6㎡ ~ 86.0㎡ 미만       아파트   부채 보유   45600   \n",
              "\n",
              "    부채금액   근로소득  사업소득 재산소득  \n",
              "0  22200   4000  5000    0  \n",
              "1  45000   3000     0    0  \n",
              "2   8000  12600     0    0  \n",
              "3  25500      0  4200    0  \n",
              "4  27800  12420     0    0  \n",
              "\n",
              "[5 rows x 26 columns]"
            ]
          },
          "execution_count": 41,
          "metadata": {},
          "output_type": "execute_result"
        }
      ],
      "source": [
        "df = pd.read_csv(\"https://uos-bigdata.github.io/lab_data/docs/assets/data_lab_depart/2016_housemasterdata_part1.csv\", encoding='cp949',index_col=False)\n",
        "df.head(5)"
      ]
    },
    {
      "cell_type": "markdown",
      "metadata": {
        "id": "4_NxkQ9u-OLj"
      },
      "source": [
        "### 데이터 파악하기"
      ]
    },
    {
      "cell_type": "markdown",
      "metadata": {
        "id": "XMPHdsmR-YRo"
      },
      "source": [
        "데이터를 파악하기 위해 `info()` 를 넣어주면 해당 데이터 행의 대략적인 정보를 확인 할 수 있습니다."
      ]
    },
    {
      "cell_type": "code",
      "execution_count": 31,
      "metadata": {
        "colab": {
          "base_uri": "https://localhost:8080/"
        },
        "id": "0LXKUQEM_JFN",
        "outputId": "8649d560-c493-475a-dabc-2309714fc2bc"
      },
      "outputs": [
        {
          "name": "stdout",
          "output_type": "stream",
          "text": [
            "<class 'pandas.core.frame.DataFrame'>\n",
            "RangeIndex: 18273 entries, 0 to 18272\n",
            "Data columns (total 27 columns):\n",
            " #   Column      Non-Null Count  Dtype \n",
            "---  ------      --------------  ----- \n",
            " 0   Unnamed: 0  18273 non-null  int64 \n",
            " 1   조사연도        18273 non-null  int64 \n",
            " 2   가구고유번호      18273 non-null  int64 \n",
            " 3   수도권여부       18273 non-null  object\n",
            " 4   가구주_성별코드    18273 non-null  object\n",
            " 5   가구원수        18273 non-null  int64 \n",
            " 6   노인가구코드      18273 non-null  object\n",
            " 7   조손가구코드      18273 non-null  object\n",
            " 8   한부모가구코드     18273 non-null  object\n",
            " 9   다문화가구코드     18273 non-null  object\n",
            " 10  장애인가구코드     18273 non-null  object\n",
            " 11  교육정도_통합코드   18273 non-null  object\n",
            " 12  동거코드        18273 non-null  object\n",
            " 13  산업대분류코드     18273 non-null  object\n",
            " 14  직업대분류코드     18273 non-null  object\n",
            " 15  만연령         18273 non-null  int64 \n",
            " 16  종사상지위코드     18273 non-null  object\n",
            " 17  혼인상태코드      18273 non-null  object\n",
            " 18  입주형태통합코드    18273 non-null  object\n",
            " 19  전용면적규모코드    18273 non-null  object\n",
            " 20  주택종류통합코드    18273 non-null  object\n",
            " 21  부채보유여부      18273 non-null  object\n",
            " 22  자산금액        18273 non-null  int64 \n",
            " 23  부채금액        18273 non-null  int64 \n",
            " 24  근로소득        18273 non-null  int64 \n",
            " 25  사업소득        18273 non-null  int64 \n",
            " 26  재산소득        18273 non-null  int64 \n",
            "dtypes: int64(10), object(17)\n",
            "memory usage: 3.8+ MB\n"
          ]
        }
      ],
      "source": [
        "df.info()"
      ]
    },
    {
      "cell_type": "markdown",
      "metadata": {
        "id": "f9olafwr_T7e"
      },
      "source": [
        "앞에 배운 것을 이용해 봅니다.\n",
        "\n",
        "열 선택을 해봅니다\n",
        "\n",
        "가구주가 남자인 데이터만 불러봅니다.\n",
        "\n",
        "행 선택이기 때문에 `가구주_성별코드`가 `남자`인 행만 `True`값을 반환합니다."
      ]
    },
    {
      "cell_type": "code",
      "execution_count": 33,
      "metadata": {
        "colab": {
          "base_uri": "https://localhost:8080/"
        },
        "id": "jMj9nWRxRMGh",
        "outputId": "db182d13-d307-4f44-9c20-f5120c67c8cb"
      },
      "outputs": [
        {
          "data": {
            "text/plain": [
              "0         True\n",
              "1         True\n",
              "2        False\n",
              "3         True\n",
              "4         True\n",
              "         ...  \n",
              "18268    False\n",
              "18269    False\n",
              "18270     True\n",
              "18271     True\n",
              "18272     True\n",
              "Name: 가구주_성별코드, Length: 18273, dtype: bool"
            ]
          },
          "execution_count": 33,
          "metadata": {},
          "output_type": "execute_result"
        }
      ],
      "source": [
        "df['가구주_성별코드'] == '남자'"
      ]
    },
    {
      "cell_type": "markdown",
      "metadata": {
        "id": "Ysuhx34XRsmI"
      },
      "source": [
        "`True`가 반환된 행만 슬라이싱 해줍니다."
      ]
    },
    {
      "cell_type": "code",
      "execution_count": 34,
      "metadata": {
        "colab": {
          "base_uri": "https://localhost:8080/",
          "height": 354
        },
        "id": "drFCpGiZ_QVx",
        "outputId": "f9b5b224-61a9-4ac9-e109-5acbe685f8bf"
      },
      "outputs": [
        {
          "data": {
            "text/html": [
              "<div>\n",
              "<style scoped>\n",
              "    .dataframe tbody tr th:only-of-type {\n",
              "        vertical-align: middle;\n",
              "    }\n",
              "\n",
              "    .dataframe tbody tr th {\n",
              "        vertical-align: top;\n",
              "    }\n",
              "\n",
              "    .dataframe thead th {\n",
              "        text-align: right;\n",
              "    }\n",
              "</style>\n",
              "<table border=\"1\" class=\"dataframe\">\n",
              "  <thead>\n",
              "    <tr style=\"text-align: right;\">\n",
              "      <th></th>\n",
              "      <th>Unnamed: 0</th>\n",
              "      <th>조사연도</th>\n",
              "      <th>가구고유번호</th>\n",
              "      <th>수도권여부</th>\n",
              "      <th>가구주_성별코드</th>\n",
              "      <th>가구원수</th>\n",
              "      <th>노인가구코드</th>\n",
              "      <th>조손가구코드</th>\n",
              "      <th>한부모가구코드</th>\n",
              "      <th>다문화가구코드</th>\n",
              "      <th>...</th>\n",
              "      <th>혼인상태코드</th>\n",
              "      <th>입주형태통합코드</th>\n",
              "      <th>전용면적규모코드</th>\n",
              "      <th>주택종류통합코드</th>\n",
              "      <th>부채보유여부</th>\n",
              "      <th>자산금액</th>\n",
              "      <th>부채금액</th>\n",
              "      <th>근로소득</th>\n",
              "      <th>사업소득</th>\n",
              "      <th>재산소득</th>\n",
              "    </tr>\n",
              "  </thead>\n",
              "  <tbody>\n",
              "    <tr>\n",
              "      <th>0</th>\n",
              "      <td>0</td>\n",
              "      <td>2016</td>\n",
              "      <td>10200111</td>\n",
              "      <td>수도권</td>\n",
              "      <td>남자</td>\n",
              "      <td>4</td>\n",
              "      <td>그 외 가구</td>\n",
              "      <td>그 외 가구</td>\n",
              "      <td>그 외 가구</td>\n",
              "      <td>그 외 가구</td>\n",
              "      <td>...</td>\n",
              "      <td>배우자있음</td>\n",
              "      <td>자기집</td>\n",
              "      <td>49.6㎡ ~ 86.0㎡ 미만</td>\n",
              "      <td>연립 및 다세대</td>\n",
              "      <td>부채 보유</td>\n",
              "      <td>76202</td>\n",
              "      <td>22200</td>\n",
              "      <td>4000</td>\n",
              "      <td>5000</td>\n",
              "      <td>0</td>\n",
              "    </tr>\n",
              "    <tr>\n",
              "      <th>1</th>\n",
              "      <td>1</td>\n",
              "      <td>2016</td>\n",
              "      <td>10200121</td>\n",
              "      <td>수도권</td>\n",
              "      <td>남자</td>\n",
              "      <td>4</td>\n",
              "      <td>그 외 가구</td>\n",
              "      <td>그 외 가구</td>\n",
              "      <td>그 외 가구</td>\n",
              "      <td>그 외 가구</td>\n",
              "      <td>...</td>\n",
              "      <td>미혼</td>\n",
              "      <td>자기집</td>\n",
              "      <td>132.2㎡ 이상</td>\n",
              "      <td>단독주택</td>\n",
              "      <td>부채 보유</td>\n",
              "      <td>116466</td>\n",
              "      <td>45000</td>\n",
              "      <td>3000</td>\n",
              "      <td>0</td>\n",
              "      <td>0</td>\n",
              "    </tr>\n",
              "    <tr>\n",
              "      <th>3</th>\n",
              "      <td>3</td>\n",
              "      <td>2016</td>\n",
              "      <td>10200161</td>\n",
              "      <td>수도권</td>\n",
              "      <td>남자</td>\n",
              "      <td>5</td>\n",
              "      <td>그 외 가구</td>\n",
              "      <td>그 외 가구</td>\n",
              "      <td>그 외 가구</td>\n",
              "      <td>그 외 가구</td>\n",
              "      <td>...</td>\n",
              "      <td>배우자있음</td>\n",
              "      <td>자기집</td>\n",
              "      <td>49.6㎡ ~ 86.0㎡ 미만</td>\n",
              "      <td>아파트</td>\n",
              "      <td>부채 보유</td>\n",
              "      <td>79406</td>\n",
              "      <td>25500</td>\n",
              "      <td>0</td>\n",
              "      <td>4200</td>\n",
              "      <td>0</td>\n",
              "    </tr>\n",
              "    <tr>\n",
              "      <th>4</th>\n",
              "      <td>4</td>\n",
              "      <td>2016</td>\n",
              "      <td>10200171</td>\n",
              "      <td>수도권</td>\n",
              "      <td>남자</td>\n",
              "      <td>2</td>\n",
              "      <td>그 외 가구</td>\n",
              "      <td>그 외 가구</td>\n",
              "      <td>그 외 가구</td>\n",
              "      <td>그 외 가구</td>\n",
              "      <td>...</td>\n",
              "      <td>배우자있음</td>\n",
              "      <td>자기집</td>\n",
              "      <td>49.6㎡ ~ 86.0㎡ 미만</td>\n",
              "      <td>아파트</td>\n",
              "      <td>부채 보유</td>\n",
              "      <td>45600</td>\n",
              "      <td>27800</td>\n",
              "      <td>12420</td>\n",
              "      <td>0</td>\n",
              "      <td>0</td>\n",
              "    </tr>\n",
              "    <tr>\n",
              "      <th>6</th>\n",
              "      <td>6</td>\n",
              "      <td>2016</td>\n",
              "      <td>10200211</td>\n",
              "      <td>비수도권</td>\n",
              "      <td>남자</td>\n",
              "      <td>4</td>\n",
              "      <td>그 외 가구</td>\n",
              "      <td>그 외 가구</td>\n",
              "      <td>그 외 가구</td>\n",
              "      <td>그 외 가구</td>\n",
              "      <td>...</td>\n",
              "      <td>배우자있음</td>\n",
              "      <td>자기집</td>\n",
              "      <td>49.6㎡ ~ 86.0㎡ 미만</td>\n",
              "      <td>연립 및 다세대</td>\n",
              "      <td>부채 보유</td>\n",
              "      <td>156100</td>\n",
              "      <td>15000</td>\n",
              "      <td>0</td>\n",
              "      <td>7200</td>\n",
              "      <td>3600</td>\n",
              "    </tr>\n",
              "    <tr>\n",
              "      <th>...</th>\n",
              "      <td>...</td>\n",
              "      <td>...</td>\n",
              "      <td>...</td>\n",
              "      <td>...</td>\n",
              "      <td>...</td>\n",
              "      <td>...</td>\n",
              "      <td>...</td>\n",
              "      <td>...</td>\n",
              "      <td>...</td>\n",
              "      <td>...</td>\n",
              "      <td>...</td>\n",
              "      <td>...</td>\n",
              "      <td>...</td>\n",
              "      <td>...</td>\n",
              "      <td>...</td>\n",
              "      <td>...</td>\n",
              "      <td>...</td>\n",
              "      <td>...</td>\n",
              "      <td>...</td>\n",
              "      <td>...</td>\n",
              "      <td>...</td>\n",
              "    </tr>\n",
              "    <tr>\n",
              "      <th>18266</th>\n",
              "      <td>18266</td>\n",
              "      <td>2016</td>\n",
              "      <td>993505331</td>\n",
              "      <td>비수도권</td>\n",
              "      <td>남자</td>\n",
              "      <td>5</td>\n",
              "      <td>그 외 가구</td>\n",
              "      <td>그 외 가구</td>\n",
              "      <td>그 외 가구</td>\n",
              "      <td>그 외 가구</td>\n",
              "      <td>...</td>\n",
              "      <td>배우자있음</td>\n",
              "      <td>자기집</td>\n",
              "      <td>86.0㎡ ~ 132.2㎡ 미만</td>\n",
              "      <td>단독주택</td>\n",
              "      <td>부채 보유</td>\n",
              "      <td>14860</td>\n",
              "      <td>5300</td>\n",
              "      <td>1040</td>\n",
              "      <td>3000</td>\n",
              "      <td>0</td>\n",
              "    </tr>\n",
              "    <tr>\n",
              "      <th>18267</th>\n",
              "      <td>18267</td>\n",
              "      <td>2016</td>\n",
              "      <td>994200331</td>\n",
              "      <td>비수도권</td>\n",
              "      <td>남자</td>\n",
              "      <td>3</td>\n",
              "      <td>그 외 가구</td>\n",
              "      <td>그 외 가구</td>\n",
              "      <td>그 외 가구</td>\n",
              "      <td>그 외 가구</td>\n",
              "      <td>...</td>\n",
              "      <td>배우자있음</td>\n",
              "      <td>월세</td>\n",
              "      <td>86.0㎡ ~ 132.2㎡ 미만</td>\n",
              "      <td>단독주택</td>\n",
              "      <td>부채 미보유</td>\n",
              "      <td>15415</td>\n",
              "      <td>0</td>\n",
              "      <td>8000</td>\n",
              "      <td>0</td>\n",
              "      <td>0</td>\n",
              "    </tr>\n",
              "    <tr>\n",
              "      <th>18270</th>\n",
              "      <td>18270</td>\n",
              "      <td>2016</td>\n",
              "      <td>994505311</td>\n",
              "      <td>비수도권</td>\n",
              "      <td>남자</td>\n",
              "      <td>5</td>\n",
              "      <td>그 외 가구</td>\n",
              "      <td>그 외 가구</td>\n",
              "      <td>그 외 가구</td>\n",
              "      <td>그 외 가구</td>\n",
              "      <td>...</td>\n",
              "      <td>배우자있음</td>\n",
              "      <td>자기집</td>\n",
              "      <td>49.6㎡ ~ 86.0㎡ 미만</td>\n",
              "      <td>단독주택</td>\n",
              "      <td>부채 미보유</td>\n",
              "      <td>15300</td>\n",
              "      <td>0</td>\n",
              "      <td>4500</td>\n",
              "      <td>0</td>\n",
              "      <td>40</td>\n",
              "    </tr>\n",
              "    <tr>\n",
              "      <th>18271</th>\n",
              "      <td>18271</td>\n",
              "      <td>2016</td>\n",
              "      <td>994505321</td>\n",
              "      <td>비수도권</td>\n",
              "      <td>남자</td>\n",
              "      <td>4</td>\n",
              "      <td>그 외 가구</td>\n",
              "      <td>그 외 가구</td>\n",
              "      <td>그 외 가구</td>\n",
              "      <td>그 외 가구</td>\n",
              "      <td>...</td>\n",
              "      <td>배우자있음</td>\n",
              "      <td>기타</td>\n",
              "      <td>49.6㎡ ~ 86.0㎡ 미만</td>\n",
              "      <td>단독주택</td>\n",
              "      <td>부채 미보유</td>\n",
              "      <td>200</td>\n",
              "      <td>0</td>\n",
              "      <td>2160</td>\n",
              "      <td>0</td>\n",
              "      <td>0</td>\n",
              "    </tr>\n",
              "    <tr>\n",
              "      <th>18272</th>\n",
              "      <td>18272</td>\n",
              "      <td>2016</td>\n",
              "      <td>995200351</td>\n",
              "      <td>비수도권</td>\n",
              "      <td>남자</td>\n",
              "      <td>1</td>\n",
              "      <td>그 외 가구</td>\n",
              "      <td>그 외 가구</td>\n",
              "      <td>그 외 가구</td>\n",
              "      <td>그 외 가구</td>\n",
              "      <td>...</td>\n",
              "      <td>이혼</td>\n",
              "      <td>월세</td>\n",
              "      <td>49.6㎡ 미만</td>\n",
              "      <td>아파트</td>\n",
              "      <td>부채 보유</td>\n",
              "      <td>860</td>\n",
              "      <td>150</td>\n",
              "      <td>1200</td>\n",
              "      <td>0</td>\n",
              "      <td>0</td>\n",
              "    </tr>\n",
              "  </tbody>\n",
              "</table>\n",
              "<p>13887 rows × 27 columns</p>\n",
              "</div>"
            ],
            "text/plain": [
              "       Unnamed: 0  조사연도     가구고유번호 수도권여부 가구주_성별코드  가구원수  노인가구코드  조손가구코드  \\\n",
              "0               0  2016   10200111   수도권       남자     4  그 외 가구  그 외 가구   \n",
              "1               1  2016   10200121   수도권       남자     4  그 외 가구  그 외 가구   \n",
              "3               3  2016   10200161   수도권       남자     5  그 외 가구  그 외 가구   \n",
              "4               4  2016   10200171   수도권       남자     2  그 외 가구  그 외 가구   \n",
              "6               6  2016   10200211  비수도권       남자     4  그 외 가구  그 외 가구   \n",
              "...           ...   ...        ...   ...      ...   ...     ...     ...   \n",
              "18266       18266  2016  993505331  비수도권       남자     5  그 외 가구  그 외 가구   \n",
              "18267       18267  2016  994200331  비수도권       남자     3  그 외 가구  그 외 가구   \n",
              "18270       18270  2016  994505311  비수도권       남자     5  그 외 가구  그 외 가구   \n",
              "18271       18271  2016  994505321  비수도권       남자     4  그 외 가구  그 외 가구   \n",
              "18272       18272  2016  995200351  비수도권       남자     1  그 외 가구  그 외 가구   \n",
              "\n",
              "      한부모가구코드 다문화가구코드  ... 혼인상태코드 입주형태통합코드           전용면적규모코드  주택종류통합코드  \\\n",
              "0      그 외 가구  그 외 가구  ...  배우자있음      자기집   49.6㎡ ~ 86.0㎡ 미만  연립 및 다세대   \n",
              "1      그 외 가구  그 외 가구  ...     미혼      자기집          132.2㎡ 이상      단독주택   \n",
              "3      그 외 가구  그 외 가구  ...  배우자있음      자기집   49.6㎡ ~ 86.0㎡ 미만       아파트   \n",
              "4      그 외 가구  그 외 가구  ...  배우자있음      자기집   49.6㎡ ~ 86.0㎡ 미만       아파트   \n",
              "6      그 외 가구  그 외 가구  ...  배우자있음      자기집   49.6㎡ ~ 86.0㎡ 미만  연립 및 다세대   \n",
              "...       ...     ...  ...    ...      ...                ...       ...   \n",
              "18266  그 외 가구  그 외 가구  ...  배우자있음      자기집  86.0㎡ ~ 132.2㎡ 미만      단독주택   \n",
              "18267  그 외 가구  그 외 가구  ...  배우자있음       월세  86.0㎡ ~ 132.2㎡ 미만      단독주택   \n",
              "18270  그 외 가구  그 외 가구  ...  배우자있음      자기집   49.6㎡ ~ 86.0㎡ 미만      단독주택   \n",
              "18271  그 외 가구  그 외 가구  ...  배우자있음       기타   49.6㎡ ~ 86.0㎡ 미만      단독주택   \n",
              "18272  그 외 가구  그 외 가구  ...     이혼       월세           49.6㎡ 미만       아파트   \n",
              "\n",
              "       부채보유여부    자산금액   부채금액   근로소득  사업소득  재산소득  \n",
              "0       부채 보유   76202  22200   4000  5000     0  \n",
              "1       부채 보유  116466  45000   3000     0     0  \n",
              "3       부채 보유   79406  25500      0  4200     0  \n",
              "4       부채 보유   45600  27800  12420     0     0  \n",
              "6       부채 보유  156100  15000      0  7200  3600  \n",
              "...       ...     ...    ...    ...   ...   ...  \n",
              "18266   부채 보유   14860   5300   1040  3000     0  \n",
              "18267  부채 미보유   15415      0   8000     0     0  \n",
              "18270  부채 미보유   15300      0   4500     0    40  \n",
              "18271  부채 미보유     200      0   2160     0     0  \n",
              "18272   부채 보유     860    150   1200     0     0  \n",
              "\n",
              "[13887 rows x 27 columns]"
            ]
          },
          "execution_count": 34,
          "metadata": {},
          "output_type": "execute_result"
        }
      ],
      "source": [
        "df[df['가구주_성별코드'] == '남자']"
      ]
    },
    {
      "cell_type": "markdown",
      "metadata": {
        "id": "hpILBRuCHyAL"
      },
      "source": [
        "거주지가 수되권이 아닌 자료만 보고 싶다면 아래 코드와 같습니다."
      ]
    },
    {
      "cell_type": "code",
      "execution_count": 42,
      "metadata": {
        "colab": {
          "base_uri": "https://localhost:8080/",
          "height": 1000
        },
        "id": "RBC2V3MEH34r",
        "outputId": "07686406-0766-47bb-c81a-603bf81b922c"
      },
      "outputs": [
        {
          "data": {
            "text/html": [
              "<div>\n",
              "<style scoped>\n",
              "    .dataframe tbody tr th:only-of-type {\n",
              "        vertical-align: middle;\n",
              "    }\n",
              "\n",
              "    .dataframe tbody tr th {\n",
              "        vertical-align: top;\n",
              "    }\n",
              "\n",
              "    .dataframe thead th {\n",
              "        text-align: right;\n",
              "    }\n",
              "</style>\n",
              "<table border=\"1\" class=\"dataframe\">\n",
              "  <thead>\n",
              "    <tr style=\"text-align: right;\">\n",
              "      <th></th>\n",
              "      <th>조사연도</th>\n",
              "      <th>가구고유번호</th>\n",
              "      <th>수도권여부</th>\n",
              "      <th>가구주_성별코드</th>\n",
              "      <th>가구원수</th>\n",
              "      <th>노인가구코드</th>\n",
              "      <th>조손가구코드</th>\n",
              "      <th>한부모가구코드</th>\n",
              "      <th>다문화가구코드</th>\n",
              "      <th>장애인가구코드</th>\n",
              "      <th>...</th>\n",
              "      <th>혼인상태코드</th>\n",
              "      <th>입주형태통합코드</th>\n",
              "      <th>전용면적규모코드</th>\n",
              "      <th>주택종류통합코드</th>\n",
              "      <th>부채보유여부</th>\n",
              "      <th>자산금액</th>\n",
              "      <th>부채금액</th>\n",
              "      <th>근로소득</th>\n",
              "      <th>사업소득</th>\n",
              "      <th>재산소득</th>\n",
              "    </tr>\n",
              "  </thead>\n",
              "  <tbody>\n",
              "    <tr>\n",
              "      <th>6</th>\n",
              "      <td>2016</td>\n",
              "      <td>10200211</td>\n",
              "      <td>비수도권</td>\n",
              "      <td>남자</td>\n",
              "      <td>4</td>\n",
              "      <td>그 외 가구</td>\n",
              "      <td>그 외 가구</td>\n",
              "      <td>그 외 가구</td>\n",
              "      <td>그 외 가구</td>\n",
              "      <td>그 외 가구</td>\n",
              "      <td>...</td>\n",
              "      <td>배우자있음</td>\n",
              "      <td>자기집</td>\n",
              "      <td>49.6㎡ ~ 86.0㎡ 미만</td>\n",
              "      <td>연립 및 다세대</td>\n",
              "      <td>부채 보유</td>\n",
              "      <td>156100</td>\n",
              "      <td>15000</td>\n",
              "      <td>0</td>\n",
              "      <td>7200</td>\n",
              "      <td>3600</td>\n",
              "    </tr>\n",
              "    <tr>\n",
              "      <th>7</th>\n",
              "      <td>2016</td>\n",
              "      <td>10200231</td>\n",
              "      <td>비수도권</td>\n",
              "      <td>여자</td>\n",
              "      <td>2</td>\n",
              "      <td>그 외 가구</td>\n",
              "      <td>그 외 가구</td>\n",
              "      <td>그 외 가구</td>\n",
              "      <td>그 외 가구</td>\n",
              "      <td>그 외 가구</td>\n",
              "      <td>...</td>\n",
              "      <td>사별</td>\n",
              "      <td>월세</td>\n",
              "      <td>49.6㎡ 미만</td>\n",
              "      <td>단독주택</td>\n",
              "      <td>부채 미보유</td>\n",
              "      <td>218</td>\n",
              "      <td>0</td>\n",
              "      <td>2160</td>\n",
              "      <td>0</td>\n",
              "      <td>0</td>\n",
              "    </tr>\n",
              "    <tr>\n",
              "      <th>8</th>\n",
              "      <td>2016</td>\n",
              "      <td>10200241</td>\n",
              "      <td>비수도권</td>\n",
              "      <td>남자</td>\n",
              "      <td>5</td>\n",
              "      <td>그 외 가구</td>\n",
              "      <td>그 외 가구</td>\n",
              "      <td>그 외 가구</td>\n",
              "      <td>그 외 가구</td>\n",
              "      <td>장애인가구</td>\n",
              "      <td>...</td>\n",
              "      <td>배우자있음</td>\n",
              "      <td>자기집</td>\n",
              "      <td>49.6㎡ ~ 86.0㎡ 미만</td>\n",
              "      <td>아파트</td>\n",
              "      <td>부채 보유</td>\n",
              "      <td>20362</td>\n",
              "      <td>9000</td>\n",
              "      <td>2880</td>\n",
              "      <td>5000</td>\n",
              "      <td>0</td>\n",
              "    </tr>\n",
              "    <tr>\n",
              "      <th>9</th>\n",
              "      <td>2016</td>\n",
              "      <td>10200251</td>\n",
              "      <td>비수도권</td>\n",
              "      <td>남자</td>\n",
              "      <td>2</td>\n",
              "      <td>그 외 가구</td>\n",
              "      <td>그 외 가구</td>\n",
              "      <td>그 외 가구</td>\n",
              "      <td>그 외 가구</td>\n",
              "      <td>그 외 가구</td>\n",
              "      <td>...</td>\n",
              "      <td>사별</td>\n",
              "      <td>기타</td>\n",
              "      <td>49.6㎡ ~ 86.0㎡ 미만</td>\n",
              "      <td>아파트</td>\n",
              "      <td>부채 미보유</td>\n",
              "      <td>74310</td>\n",
              "      <td>0</td>\n",
              "      <td>0</td>\n",
              "      <td>7000</td>\n",
              "      <td>0</td>\n",
              "    </tr>\n",
              "    <tr>\n",
              "      <th>10</th>\n",
              "      <td>2016</td>\n",
              "      <td>10200261</td>\n",
              "      <td>비수도권</td>\n",
              "      <td>남자</td>\n",
              "      <td>2</td>\n",
              "      <td>노인가구</td>\n",
              "      <td>그 외 가구</td>\n",
              "      <td>그 외 가구</td>\n",
              "      <td>그 외 가구</td>\n",
              "      <td>장애인가구</td>\n",
              "      <td>...</td>\n",
              "      <td>배우자있음</td>\n",
              "      <td>기타</td>\n",
              "      <td>49.6㎡ ~ 86.0㎡ 미만</td>\n",
              "      <td>단독주택</td>\n",
              "      <td>부채 보유</td>\n",
              "      <td>30</td>\n",
              "      <td>4200</td>\n",
              "      <td>120</td>\n",
              "      <td>0</td>\n",
              "      <td>0</td>\n",
              "    </tr>\n",
              "    <tr>\n",
              "      <th>...</th>\n",
              "      <td>...</td>\n",
              "      <td>...</td>\n",
              "      <td>...</td>\n",
              "      <td>...</td>\n",
              "      <td>...</td>\n",
              "      <td>...</td>\n",
              "      <td>...</td>\n",
              "      <td>...</td>\n",
              "      <td>...</td>\n",
              "      <td>...</td>\n",
              "      <td>...</td>\n",
              "      <td>...</td>\n",
              "      <td>...</td>\n",
              "      <td>...</td>\n",
              "      <td>...</td>\n",
              "      <td>...</td>\n",
              "      <td>...</td>\n",
              "      <td>...</td>\n",
              "      <td>...</td>\n",
              "      <td>...</td>\n",
              "      <td>...</td>\n",
              "    </tr>\n",
              "    <tr>\n",
              "      <th>18268</th>\n",
              "      <td>2016</td>\n",
              "      <td>994200361</td>\n",
              "      <td>비수도권</td>\n",
              "      <td>여자</td>\n",
              "      <td>2</td>\n",
              "      <td>그 외 가구</td>\n",
              "      <td>그 외 가구</td>\n",
              "      <td>그 외 가구</td>\n",
              "      <td>그 외 가구</td>\n",
              "      <td>그 외 가구</td>\n",
              "      <td>...</td>\n",
              "      <td>배우자있음</td>\n",
              "      <td>자기집</td>\n",
              "      <td>49.6㎡ 미만</td>\n",
              "      <td>연립 및 다세대</td>\n",
              "      <td>부채 미보유</td>\n",
              "      <td>19213</td>\n",
              "      <td>0</td>\n",
              "      <td>888</td>\n",
              "      <td>100</td>\n",
              "      <td>0</td>\n",
              "    </tr>\n",
              "    <tr>\n",
              "      <th>18269</th>\n",
              "      <td>2016</td>\n",
              "      <td>994200381</td>\n",
              "      <td>비수도권</td>\n",
              "      <td>여자</td>\n",
              "      <td>1</td>\n",
              "      <td>노인가구</td>\n",
              "      <td>그 외 가구</td>\n",
              "      <td>그 외 가구</td>\n",
              "      <td>그 외 가구</td>\n",
              "      <td>그 외 가구</td>\n",
              "      <td>...</td>\n",
              "      <td>사별</td>\n",
              "      <td>기타</td>\n",
              "      <td>49.6㎡ ~ 86.0㎡ 미만</td>\n",
              "      <td>단독주택</td>\n",
              "      <td>부채 미보유</td>\n",
              "      <td>2200</td>\n",
              "      <td>0</td>\n",
              "      <td>0</td>\n",
              "      <td>0</td>\n",
              "      <td>40</td>\n",
              "    </tr>\n",
              "    <tr>\n",
              "      <th>18270</th>\n",
              "      <td>2016</td>\n",
              "      <td>994505311</td>\n",
              "      <td>비수도권</td>\n",
              "      <td>남자</td>\n",
              "      <td>5</td>\n",
              "      <td>그 외 가구</td>\n",
              "      <td>그 외 가구</td>\n",
              "      <td>그 외 가구</td>\n",
              "      <td>그 외 가구</td>\n",
              "      <td>그 외 가구</td>\n",
              "      <td>...</td>\n",
              "      <td>배우자있음</td>\n",
              "      <td>자기집</td>\n",
              "      <td>49.6㎡ ~ 86.0㎡ 미만</td>\n",
              "      <td>단독주택</td>\n",
              "      <td>부채 미보유</td>\n",
              "      <td>15300</td>\n",
              "      <td>0</td>\n",
              "      <td>4500</td>\n",
              "      <td>0</td>\n",
              "      <td>40</td>\n",
              "    </tr>\n",
              "    <tr>\n",
              "      <th>18271</th>\n",
              "      <td>2016</td>\n",
              "      <td>994505321</td>\n",
              "      <td>비수도권</td>\n",
              "      <td>남자</td>\n",
              "      <td>4</td>\n",
              "      <td>그 외 가구</td>\n",
              "      <td>그 외 가구</td>\n",
              "      <td>그 외 가구</td>\n",
              "      <td>그 외 가구</td>\n",
              "      <td>그 외 가구</td>\n",
              "      <td>...</td>\n",
              "      <td>배우자있음</td>\n",
              "      <td>기타</td>\n",
              "      <td>49.6㎡ ~ 86.0㎡ 미만</td>\n",
              "      <td>단독주택</td>\n",
              "      <td>부채 미보유</td>\n",
              "      <td>200</td>\n",
              "      <td>0</td>\n",
              "      <td>2160</td>\n",
              "      <td>0</td>\n",
              "      <td>0</td>\n",
              "    </tr>\n",
              "    <tr>\n",
              "      <th>18272</th>\n",
              "      <td>2016</td>\n",
              "      <td>995200351</td>\n",
              "      <td>비수도권</td>\n",
              "      <td>남자</td>\n",
              "      <td>1</td>\n",
              "      <td>그 외 가구</td>\n",
              "      <td>그 외 가구</td>\n",
              "      <td>그 외 가구</td>\n",
              "      <td>그 외 가구</td>\n",
              "      <td>그 외 가구</td>\n",
              "      <td>...</td>\n",
              "      <td>이혼</td>\n",
              "      <td>월세</td>\n",
              "      <td>49.6㎡ 미만</td>\n",
              "      <td>아파트</td>\n",
              "      <td>부채 보유</td>\n",
              "      <td>860</td>\n",
              "      <td>150</td>\n",
              "      <td>1200</td>\n",
              "      <td>0</td>\n",
              "      <td>0</td>\n",
              "    </tr>\n",
              "  </tbody>\n",
              "</table>\n",
              "<p>11955 rows × 26 columns</p>\n",
              "</div>"
            ],
            "text/plain": [
              "       조사연도     가구고유번호 수도권여부 가구주_성별코드  가구원수  노인가구코드  조손가구코드 한부모가구코드 다문화가구코드  \\\n",
              "6      2016   10200211  비수도권       남자     4  그 외 가구  그 외 가구  그 외 가구  그 외 가구   \n",
              "7      2016   10200231  비수도권       여자     2  그 외 가구  그 외 가구  그 외 가구  그 외 가구   \n",
              "8      2016   10200241  비수도권       남자     5  그 외 가구  그 외 가구  그 외 가구  그 외 가구   \n",
              "9      2016   10200251  비수도권       남자     2  그 외 가구  그 외 가구  그 외 가구  그 외 가구   \n",
              "10     2016   10200261  비수도권       남자     2    노인가구  그 외 가구  그 외 가구  그 외 가구   \n",
              "...     ...        ...   ...      ...   ...     ...     ...     ...     ...   \n",
              "18268  2016  994200361  비수도권       여자     2  그 외 가구  그 외 가구  그 외 가구  그 외 가구   \n",
              "18269  2016  994200381  비수도권       여자     1    노인가구  그 외 가구  그 외 가구  그 외 가구   \n",
              "18270  2016  994505311  비수도권       남자     5  그 외 가구  그 외 가구  그 외 가구  그 외 가구   \n",
              "18271  2016  994505321  비수도권       남자     4  그 외 가구  그 외 가구  그 외 가구  그 외 가구   \n",
              "18272  2016  995200351  비수도권       남자     1  그 외 가구  그 외 가구  그 외 가구  그 외 가구   \n",
              "\n",
              "      장애인가구코드  ... 혼인상태코드 입주형태통합코드          전용면적규모코드  주택종류통합코드  부채보유여부  \\\n",
              "6      그 외 가구  ...  배우자있음      자기집  49.6㎡ ~ 86.0㎡ 미만  연립 및 다세대   부채 보유   \n",
              "7      그 외 가구  ...     사별       월세          49.6㎡ 미만      단독주택  부채 미보유   \n",
              "8       장애인가구  ...  배우자있음      자기집  49.6㎡ ~ 86.0㎡ 미만       아파트   부채 보유   \n",
              "9      그 외 가구  ...     사별       기타  49.6㎡ ~ 86.0㎡ 미만       아파트  부채 미보유   \n",
              "10      장애인가구  ...  배우자있음       기타  49.6㎡ ~ 86.0㎡ 미만      단독주택   부채 보유   \n",
              "...       ...  ...    ...      ...               ...       ...     ...   \n",
              "18268  그 외 가구  ...  배우자있음      자기집          49.6㎡ 미만  연립 및 다세대  부채 미보유   \n",
              "18269  그 외 가구  ...     사별       기타  49.6㎡ ~ 86.0㎡ 미만      단독주택  부채 미보유   \n",
              "18270  그 외 가구  ...  배우자있음      자기집  49.6㎡ ~ 86.0㎡ 미만      단독주택  부채 미보유   \n",
              "18271  그 외 가구  ...  배우자있음       기타  49.6㎡ ~ 86.0㎡ 미만      단독주택  부채 미보유   \n",
              "18272  그 외 가구  ...     이혼       월세          49.6㎡ 미만       아파트   부채 보유   \n",
              "\n",
              "         자산금액   부채금액  근로소득  사업소득  재산소득  \n",
              "6      156100  15000     0  7200  3600  \n",
              "7         218      0  2160     0     0  \n",
              "8       20362   9000  2880  5000     0  \n",
              "9       74310      0     0  7000     0  \n",
              "10         30   4200   120     0     0  \n",
              "...       ...    ...   ...   ...   ...  \n",
              "18268   19213      0   888   100     0  \n",
              "18269    2200      0     0     0    40  \n",
              "18270   15300      0  4500     0    40  \n",
              "18271     200      0  2160     0     0  \n",
              "18272     860    150  1200     0     0  \n",
              "\n",
              "[11955 rows x 26 columns]"
            ]
          },
          "execution_count": 42,
          "metadata": {},
          "output_type": "execute_result"
        }
      ],
      "source": [
        "df[df['수도권여부'] == '비수도권']"
      ]
    },
    {
      "cell_type": "markdown",
      "metadata": {
        "id": "lOXQeQtJIBHU"
      },
      "source": [
        "이번에는 행까지 선택해봅니다.\n",
        "\n",
        "가구주의 연령이 30세 이하인 자료만 보려 합니다"
      ]
    },
    {
      "cell_type": "code",
      "execution_count": 37,
      "metadata": {
        "colab": {
          "base_uri": "https://localhost:8080/"
        },
        "id": "iPk7K3_MSD0N",
        "outputId": "9850b2cf-7aff-4d0f-b8ad-c47896dd9c1a"
      },
      "outputs": [
        {
          "data": {
            "text/plain": [
              "0        False\n",
              "1        False\n",
              "2        False\n",
              "3        False\n",
              "4        False\n",
              "         ...  \n",
              "18268    False\n",
              "18269    False\n",
              "18270    False\n",
              "18271    False\n",
              "18272    False\n",
              "Name: 만연령, Length: 18273, dtype: bool"
            ]
          },
          "execution_count": 37,
          "metadata": {},
          "output_type": "execute_result"
        }
      ],
      "source": [
        "df['만연령'] <= 30"
      ]
    },
    {
      "cell_type": "code",
      "execution_count": 38,
      "metadata": {
        "colab": {
          "base_uri": "https://localhost:8080/",
          "height": 306
        },
        "id": "0I1sslLMIyfc",
        "outputId": "171450a1-1ad2-4eed-a666-e13aa6a9dbe0"
      },
      "outputs": [
        {
          "data": {
            "text/html": [
              "<div>\n",
              "<style scoped>\n",
              "    .dataframe tbody tr th:only-of-type {\n",
              "        vertical-align: middle;\n",
              "    }\n",
              "\n",
              "    .dataframe tbody tr th {\n",
              "        vertical-align: top;\n",
              "    }\n",
              "\n",
              "    .dataframe thead th {\n",
              "        text-align: right;\n",
              "    }\n",
              "</style>\n",
              "<table border=\"1\" class=\"dataframe\">\n",
              "  <thead>\n",
              "    <tr style=\"text-align: right;\">\n",
              "      <th></th>\n",
              "      <th>Unnamed: 0</th>\n",
              "      <th>조사연도</th>\n",
              "      <th>가구고유번호</th>\n",
              "      <th>수도권여부</th>\n",
              "      <th>가구주_성별코드</th>\n",
              "      <th>가구원수</th>\n",
              "      <th>노인가구코드</th>\n",
              "      <th>조손가구코드</th>\n",
              "      <th>한부모가구코드</th>\n",
              "      <th>다문화가구코드</th>\n",
              "      <th>...</th>\n",
              "      <th>혼인상태코드</th>\n",
              "      <th>입주형태통합코드</th>\n",
              "      <th>전용면적규모코드</th>\n",
              "      <th>주택종류통합코드</th>\n",
              "      <th>부채보유여부</th>\n",
              "      <th>자산금액</th>\n",
              "      <th>부채금액</th>\n",
              "      <th>근로소득</th>\n",
              "      <th>사업소득</th>\n",
              "      <th>재산소득</th>\n",
              "    </tr>\n",
              "  </thead>\n",
              "  <tbody>\n",
              "    <tr>\n",
              "      <th>26</th>\n",
              "      <td>26</td>\n",
              "      <td>2016</td>\n",
              "      <td>10202141</td>\n",
              "      <td>수도권</td>\n",
              "      <td>여자</td>\n",
              "      <td>1</td>\n",
              "      <td>그 외 가구</td>\n",
              "      <td>그 외 가구</td>\n",
              "      <td>그 외 가구</td>\n",
              "      <td>그 외 가구</td>\n",
              "      <td>...</td>\n",
              "      <td>미혼</td>\n",
              "      <td>월세</td>\n",
              "      <td>49.6㎡ 미만</td>\n",
              "      <td>기타</td>\n",
              "      <td>부채 보유</td>\n",
              "      <td>2000</td>\n",
              "      <td>20</td>\n",
              "      <td>0</td>\n",
              "      <td>3000</td>\n",
              "      <td>0</td>\n",
              "    </tr>\n",
              "    <tr>\n",
              "      <th>42</th>\n",
              "      <td>42</td>\n",
              "      <td>2016</td>\n",
              "      <td>10300121</td>\n",
              "      <td>수도권</td>\n",
              "      <td>여자</td>\n",
              "      <td>2</td>\n",
              "      <td>그 외 가구</td>\n",
              "      <td>그 외 가구</td>\n",
              "      <td>그 외 가구</td>\n",
              "      <td>그 외 가구</td>\n",
              "      <td>...</td>\n",
              "      <td>배우자있음</td>\n",
              "      <td>전세</td>\n",
              "      <td>49.6㎡ 미만</td>\n",
              "      <td>연립 및 다세대</td>\n",
              "      <td>부채 보유</td>\n",
              "      <td>22048</td>\n",
              "      <td>3050</td>\n",
              "      <td>7790</td>\n",
              "      <td>0</td>\n",
              "      <td>0</td>\n",
              "    </tr>\n",
              "    <tr>\n",
              "      <th>59</th>\n",
              "      <td>59</td>\n",
              "      <td>2016</td>\n",
              "      <td>10501101</td>\n",
              "      <td>수도권</td>\n",
              "      <td>여자</td>\n",
              "      <td>2</td>\n",
              "      <td>그 외 가구</td>\n",
              "      <td>그 외 가구</td>\n",
              "      <td>그 외 가구</td>\n",
              "      <td>그 외 가구</td>\n",
              "      <td>...</td>\n",
              "      <td>미혼</td>\n",
              "      <td>월세</td>\n",
              "      <td>49.6㎡ 미만</td>\n",
              "      <td>단독주택</td>\n",
              "      <td>부채 미보유</td>\n",
              "      <td>3400</td>\n",
              "      <td>0</td>\n",
              "      <td>2520</td>\n",
              "      <td>0</td>\n",
              "      <td>0</td>\n",
              "    </tr>\n",
              "    <tr>\n",
              "      <th>60</th>\n",
              "      <td>60</td>\n",
              "      <td>2016</td>\n",
              "      <td>10501111</td>\n",
              "      <td>수도권</td>\n",
              "      <td>남자</td>\n",
              "      <td>1</td>\n",
              "      <td>그 외 가구</td>\n",
              "      <td>그 외 가구</td>\n",
              "      <td>그 외 가구</td>\n",
              "      <td>그 외 가구</td>\n",
              "      <td>...</td>\n",
              "      <td>미혼</td>\n",
              "      <td>전세</td>\n",
              "      <td>49.6㎡ 미만</td>\n",
              "      <td>기타</td>\n",
              "      <td>부채 미보유</td>\n",
              "      <td>11258</td>\n",
              "      <td>0</td>\n",
              "      <td>3600</td>\n",
              "      <td>0</td>\n",
              "      <td>0</td>\n",
              "    </tr>\n",
              "    <tr>\n",
              "      <th>82</th>\n",
              "      <td>82</td>\n",
              "      <td>2016</td>\n",
              "      <td>10600171</td>\n",
              "      <td>수도권</td>\n",
              "      <td>남자</td>\n",
              "      <td>1</td>\n",
              "      <td>그 외 가구</td>\n",
              "      <td>그 외 가구</td>\n",
              "      <td>그 외 가구</td>\n",
              "      <td>그 외 가구</td>\n",
              "      <td>...</td>\n",
              "      <td>미혼</td>\n",
              "      <td>월세</td>\n",
              "      <td>49.6㎡ 미만</td>\n",
              "      <td>단독주택</td>\n",
              "      <td>부채 미보유</td>\n",
              "      <td>660</td>\n",
              "      <td>0</td>\n",
              "      <td>400</td>\n",
              "      <td>0</td>\n",
              "      <td>0</td>\n",
              "    </tr>\n",
              "    <tr>\n",
              "      <th>...</th>\n",
              "      <td>...</td>\n",
              "      <td>...</td>\n",
              "      <td>...</td>\n",
              "      <td>...</td>\n",
              "      <td>...</td>\n",
              "      <td>...</td>\n",
              "      <td>...</td>\n",
              "      <td>...</td>\n",
              "      <td>...</td>\n",
              "      <td>...</td>\n",
              "      <td>...</td>\n",
              "      <td>...</td>\n",
              "      <td>...</td>\n",
              "      <td>...</td>\n",
              "      <td>...</td>\n",
              "      <td>...</td>\n",
              "      <td>...</td>\n",
              "      <td>...</td>\n",
              "      <td>...</td>\n",
              "      <td>...</td>\n",
              "      <td>...</td>\n",
              "    </tr>\n",
              "    <tr>\n",
              "      <th>17846</th>\n",
              "      <td>17846</td>\n",
              "      <td>2016</td>\n",
              "      <td>954502291</td>\n",
              "      <td>비수도권</td>\n",
              "      <td>여자</td>\n",
              "      <td>2</td>\n",
              "      <td>그 외 가구</td>\n",
              "      <td>그 외 가구</td>\n",
              "      <td>그 외 가구</td>\n",
              "      <td>그 외 가구</td>\n",
              "      <td>...</td>\n",
              "      <td>배우자있음</td>\n",
              "      <td>자기집</td>\n",
              "      <td>49.6㎡ 미만</td>\n",
              "      <td>아파트</td>\n",
              "      <td>부채 보유</td>\n",
              "      <td>13318</td>\n",
              "      <td>7610</td>\n",
              "      <td>5470</td>\n",
              "      <td>0</td>\n",
              "      <td>0</td>\n",
              "    </tr>\n",
              "    <tr>\n",
              "      <th>17929</th>\n",
              "      <td>17929</td>\n",
              "      <td>2016</td>\n",
              "      <td>961600231</td>\n",
              "      <td>비수도권</td>\n",
              "      <td>여자</td>\n",
              "      <td>1</td>\n",
              "      <td>그 외 가구</td>\n",
              "      <td>그 외 가구</td>\n",
              "      <td>그 외 가구</td>\n",
              "      <td>그 외 가구</td>\n",
              "      <td>...</td>\n",
              "      <td>미혼</td>\n",
              "      <td>기타</td>\n",
              "      <td>49.6㎡ 미만</td>\n",
              "      <td>연립 및 다세대</td>\n",
              "      <td>부채 보유</td>\n",
              "      <td>3178</td>\n",
              "      <td>1000</td>\n",
              "      <td>1200</td>\n",
              "      <td>0</td>\n",
              "      <td>0</td>\n",
              "    </tr>\n",
              "    <tr>\n",
              "      <th>18013</th>\n",
              "      <td>18013</td>\n",
              "      <td>2016</td>\n",
              "      <td>967502231</td>\n",
              "      <td>비수도권</td>\n",
              "      <td>남자</td>\n",
              "      <td>1</td>\n",
              "      <td>그 외 가구</td>\n",
              "      <td>그 외 가구</td>\n",
              "      <td>그 외 가구</td>\n",
              "      <td>그 외 가구</td>\n",
              "      <td>...</td>\n",
              "      <td>미혼</td>\n",
              "      <td>월세</td>\n",
              "      <td>49.6㎡ 미만</td>\n",
              "      <td>단독주택</td>\n",
              "      <td>부채 보유</td>\n",
              "      <td>8881</td>\n",
              "      <td>2920</td>\n",
              "      <td>3840</td>\n",
              "      <td>0</td>\n",
              "      <td>0</td>\n",
              "    </tr>\n",
              "    <tr>\n",
              "      <th>18111</th>\n",
              "      <td>18111</td>\n",
              "      <td>2016</td>\n",
              "      <td>976200321</td>\n",
              "      <td>비수도권</td>\n",
              "      <td>남자</td>\n",
              "      <td>1</td>\n",
              "      <td>그 외 가구</td>\n",
              "      <td>그 외 가구</td>\n",
              "      <td>그 외 가구</td>\n",
              "      <td>그 외 가구</td>\n",
              "      <td>...</td>\n",
              "      <td>미혼</td>\n",
              "      <td>월세</td>\n",
              "      <td>49.6㎡ 미만</td>\n",
              "      <td>연립 및 다세대</td>\n",
              "      <td>부채 보유</td>\n",
              "      <td>3860</td>\n",
              "      <td>4020</td>\n",
              "      <td>4000</td>\n",
              "      <td>0</td>\n",
              "      <td>0</td>\n",
              "    </tr>\n",
              "    <tr>\n",
              "      <th>18138</th>\n",
              "      <td>18138</td>\n",
              "      <td>2016</td>\n",
              "      <td>980201361</td>\n",
              "      <td>비수도권</td>\n",
              "      <td>남자</td>\n",
              "      <td>5</td>\n",
              "      <td>그 외 가구</td>\n",
              "      <td>그 외 가구</td>\n",
              "      <td>그 외 가구</td>\n",
              "      <td>그 외 가구</td>\n",
              "      <td>...</td>\n",
              "      <td>배우자있음</td>\n",
              "      <td>월세</td>\n",
              "      <td>49.6㎡ ~ 86.0㎡ 미만</td>\n",
              "      <td>아파트</td>\n",
              "      <td>부채 보유</td>\n",
              "      <td>10197</td>\n",
              "      <td>2750</td>\n",
              "      <td>5040</td>\n",
              "      <td>0</td>\n",
              "      <td>0</td>\n",
              "    </tr>\n",
              "  </tbody>\n",
              "</table>\n",
              "<p>576 rows × 27 columns</p>\n",
              "</div>"
            ],
            "text/plain": [
              "       Unnamed: 0  조사연도     가구고유번호 수도권여부 가구주_성별코드  가구원수  노인가구코드  조손가구코드  \\\n",
              "26             26  2016   10202141   수도권       여자     1  그 외 가구  그 외 가구   \n",
              "42             42  2016   10300121   수도권       여자     2  그 외 가구  그 외 가구   \n",
              "59             59  2016   10501101   수도권       여자     2  그 외 가구  그 외 가구   \n",
              "60             60  2016   10501111   수도권       남자     1  그 외 가구  그 외 가구   \n",
              "82             82  2016   10600171   수도권       남자     1  그 외 가구  그 외 가구   \n",
              "...           ...   ...        ...   ...      ...   ...     ...     ...   \n",
              "17846       17846  2016  954502291  비수도권       여자     2  그 외 가구  그 외 가구   \n",
              "17929       17929  2016  961600231  비수도권       여자     1  그 외 가구  그 외 가구   \n",
              "18013       18013  2016  967502231  비수도권       남자     1  그 외 가구  그 외 가구   \n",
              "18111       18111  2016  976200321  비수도권       남자     1  그 외 가구  그 외 가구   \n",
              "18138       18138  2016  980201361  비수도권       남자     5  그 외 가구  그 외 가구   \n",
              "\n",
              "      한부모가구코드 다문화가구코드  ... 혼인상태코드 입주형태통합코드          전용면적규모코드  주택종류통합코드  \\\n",
              "26     그 외 가구  그 외 가구  ...     미혼       월세          49.6㎡ 미만        기타   \n",
              "42     그 외 가구  그 외 가구  ...  배우자있음       전세          49.6㎡ 미만  연립 및 다세대   \n",
              "59     그 외 가구  그 외 가구  ...     미혼       월세          49.6㎡ 미만      단독주택   \n",
              "60     그 외 가구  그 외 가구  ...     미혼       전세          49.6㎡ 미만        기타   \n",
              "82     그 외 가구  그 외 가구  ...     미혼       월세          49.6㎡ 미만      단독주택   \n",
              "...       ...     ...  ...    ...      ...               ...       ...   \n",
              "17846  그 외 가구  그 외 가구  ...  배우자있음      자기집          49.6㎡ 미만       아파트   \n",
              "17929  그 외 가구  그 외 가구  ...     미혼       기타          49.6㎡ 미만  연립 및 다세대   \n",
              "18013  그 외 가구  그 외 가구  ...     미혼       월세          49.6㎡ 미만      단독주택   \n",
              "18111  그 외 가구  그 외 가구  ...     미혼       월세          49.6㎡ 미만  연립 및 다세대   \n",
              "18138  그 외 가구  그 외 가구  ...  배우자있음       월세  49.6㎡ ~ 86.0㎡ 미만       아파트   \n",
              "\n",
              "       부채보유여부   자산금액  부채금액  근로소득  사업소득 재산소득  \n",
              "26      부채 보유   2000    20     0  3000    0  \n",
              "42      부채 보유  22048  3050  7790     0    0  \n",
              "59     부채 미보유   3400     0  2520     0    0  \n",
              "60     부채 미보유  11258     0  3600     0    0  \n",
              "82     부채 미보유    660     0   400     0    0  \n",
              "...       ...    ...   ...   ...   ...  ...  \n",
              "17846   부채 보유  13318  7610  5470     0    0  \n",
              "17929   부채 보유   3178  1000  1200     0    0  \n",
              "18013   부채 보유   8881  2920  3840     0    0  \n",
              "18111   부채 보유   3860  4020  4000     0    0  \n",
              "18138   부채 보유  10197  2750  5040     0    0  \n",
              "\n",
              "[576 rows x 27 columns]"
            ]
          },
          "execution_count": 38,
          "metadata": {},
          "output_type": "execute_result"
        }
      ],
      "source": [
        "df[df['만연령'] <= 30]"
      ]
    },
    {
      "cell_type": "markdown",
      "metadata": {
        "id": "eYBU3ls7JHdu"
      },
      "source": [
        "위에 실행했던 행과 열을 동시에 선택해 봅니다.\n",
        "\n",
        "가구주의 연령이  50이 이상인 자료에서 연령과 자산금액을 찾아보려 합니다\n",
        "\n",
        "loc : location을 뜻합니다."
      ]
    },
    {
      "cell_type": "markdown",
      "metadata": {
        "id": "EzjrJuUqS_x1"
      },
      "source": [
        "`df['만연령'] <= 30` 이 `True`인 행만 반환 해줄 것이고,\n",
        "\n",
        "그 행들 중에서 연령과 자산금액인 열만 보고 싶으니 `만연령`과 `자산금액` 만 선택해줍니다."
      ]
    },
    {
      "cell_type": "code",
      "execution_count": 39,
      "metadata": {
        "colab": {
          "base_uri": "https://localhost:8080/"
        },
        "id": "6xWrHu5MJVnD",
        "outputId": "8fc56fff-e7fb-43f5-b648-0dd9d3d30175"
      },
      "outputs": [
        {
          "data": {
            "text/html": [
              "<div>\n",
              "<style scoped>\n",
              "    .dataframe tbody tr th:only-of-type {\n",
              "        vertical-align: middle;\n",
              "    }\n",
              "\n",
              "    .dataframe tbody tr th {\n",
              "        vertical-align: top;\n",
              "    }\n",
              "\n",
              "    .dataframe thead th {\n",
              "        text-align: right;\n",
              "    }\n",
              "</style>\n",
              "<table border=\"1\" class=\"dataframe\">\n",
              "  <thead>\n",
              "    <tr style=\"text-align: right;\">\n",
              "      <th></th>\n",
              "      <th>만연령</th>\n",
              "      <th>자산금액</th>\n",
              "    </tr>\n",
              "  </thead>\n",
              "  <tbody>\n",
              "    <tr>\n",
              "      <th>26</th>\n",
              "      <td>29</td>\n",
              "      <td>2000</td>\n",
              "    </tr>\n",
              "    <tr>\n",
              "      <th>42</th>\n",
              "      <td>28</td>\n",
              "      <td>22048</td>\n",
              "    </tr>\n",
              "    <tr>\n",
              "      <th>59</th>\n",
              "      <td>22</td>\n",
              "      <td>3400</td>\n",
              "    </tr>\n",
              "    <tr>\n",
              "      <th>60</th>\n",
              "      <td>28</td>\n",
              "      <td>11258</td>\n",
              "    </tr>\n",
              "    <tr>\n",
              "      <th>82</th>\n",
              "      <td>25</td>\n",
              "      <td>660</td>\n",
              "    </tr>\n",
              "    <tr>\n",
              "      <th>...</th>\n",
              "      <td>...</td>\n",
              "      <td>...</td>\n",
              "    </tr>\n",
              "    <tr>\n",
              "      <th>17846</th>\n",
              "      <td>26</td>\n",
              "      <td>13318</td>\n",
              "    </tr>\n",
              "    <tr>\n",
              "      <th>17929</th>\n",
              "      <td>27</td>\n",
              "      <td>3178</td>\n",
              "    </tr>\n",
              "    <tr>\n",
              "      <th>18013</th>\n",
              "      <td>30</td>\n",
              "      <td>8881</td>\n",
              "    </tr>\n",
              "    <tr>\n",
              "      <th>18111</th>\n",
              "      <td>30</td>\n",
              "      <td>3860</td>\n",
              "    </tr>\n",
              "    <tr>\n",
              "      <th>18138</th>\n",
              "      <td>30</td>\n",
              "      <td>10197</td>\n",
              "    </tr>\n",
              "  </tbody>\n",
              "</table>\n",
              "<p>576 rows × 2 columns</p>\n",
              "</div>"
            ],
            "text/plain": [
              "       만연령   자산금액\n",
              "26      29   2000\n",
              "42      28  22048\n",
              "59      22   3400\n",
              "60      28  11258\n",
              "82      25    660\n",
              "...    ...    ...\n",
              "17846   26  13318\n",
              "17929   27   3178\n",
              "18013   30   8881\n",
              "18111   30   3860\n",
              "18138   30  10197\n",
              "\n",
              "[576 rows x 2 columns]"
            ]
          },
          "execution_count": 39,
          "metadata": {},
          "output_type": "execute_result"
        }
      ],
      "source": [
        "df.loc[df['만연령'] <= 30, ['만연령', '자산금액']]"
      ]
    },
    {
      "cell_type": "markdown",
      "metadata": {},
      "source": [
        "하나의 컬럼만 선택하는 경우는 컬럼 이름만 저장해도 됩니다."
      ]
    },
    {
      "cell_type": "code",
      "execution_count": 40,
      "metadata": {},
      "outputs": [
        {
          "data": {
            "text/plain": [
              "26        부채 보유\n",
              "42        부채 보유\n",
              "59       부채 미보유\n",
              "60       부채 미보유\n",
              "82       부채 미보유\n",
              "          ...  \n",
              "17846     부채 보유\n",
              "17929     부채 보유\n",
              "18013     부채 보유\n",
              "18111     부채 보유\n",
              "18138     부채 보유\n",
              "Name: 부채보유여부, Length: 576, dtype: object"
            ]
          },
          "execution_count": 40,
          "metadata": {},
          "output_type": "execute_result"
        }
      ],
      "source": [
        "df.loc[df['만연령'] <= 30, '부채보유여부']"
      ]
    },
    {
      "cell_type": "code",
      "execution_count": null,
      "metadata": {},
      "outputs": [],
      "source": []
    }
  ],
  "metadata": {
    "colab": {
      "collapsed_sections": [
        "DAi24beGfdJv",
        "IKGxIJlN87W0"
      ],
      "provenance": []
    },
    "kernelspec": {
      "display_name": "Python 3",
      "name": "python3"
    },
    "language_info": {
      "codemirror_mode": {
        "name": "ipython",
        "version": 3
      },
      "file_extension": ".py",
      "mimetype": "text/x-python",
      "name": "python",
      "nbconvert_exporter": "python",
      "pygments_lexer": "ipython3",
      "version": "3.9.13"
    }
  },
  "nbformat": 4,
  "nbformat_minor": 0
}
