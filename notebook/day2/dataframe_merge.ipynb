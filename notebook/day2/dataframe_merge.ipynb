{
 "cells": [
  {
   "cell_type": "markdown",
   "id": "cd1784e6",
   "metadata": {},
   "source": [
    "# 데이터프레임의 결합"
   ]
  },
  {
   "cell_type": "markdown",
   "id": "7ed58b4b",
   "metadata": {},
   "source": [
    "데이터를 이용하여 분석을 하는 경우 사용할 자료가 두 개 이상이 경우는 매우 흔한 일이다. 실제로 데이터 분석에서 하나의 자료만 가지고 수행하는 일은 매우 드물다. \n",
    "\n",
    "이 절에서는 여러 개의 자료를 사용하는 경우 두 개의 자료를 서로 결합하여 새로운 자료를 만드는 것을 실습한다. 살펴 볼 내용은 다음과 같다.\n",
    "\n",
    "* 데이터의 결합\n",
    "* 식별자의 불일치"
   ]
  },
  {
   "cell_type": "code",
   "execution_count": 1,
   "id": "6525598e",
   "metadata": {},
   "outputs": [],
   "source": [
    "import pandas as pd\n",
    "import numpy as np\n",
    "import matplotlib.pyplot as plt"
   ]
  },
  {
   "cell_type": "markdown",
   "id": "7ec44902",
   "metadata": {},
   "source": [
    "## 간단한 예제\n",
    "\n",
    "두 개의 데이터프레임 `df1` 과 `df2` 가 다음과 같이 주어졌다고 하자."
   ]
  },
  {
   "cell_type": "code",
   "execution_count": 2,
   "id": "47f796ff",
   "metadata": {},
   "outputs": [
    {
     "data": {
      "text/html": [
       "<div>\n",
       "<style scoped>\n",
       "    .dataframe tbody tr th:only-of-type {\n",
       "        vertical-align: middle;\n",
       "    }\n",
       "\n",
       "    .dataframe tbody tr th {\n",
       "        vertical-align: top;\n",
       "    }\n",
       "\n",
       "    .dataframe thead th {\n",
       "        text-align: right;\n",
       "    }\n",
       "</style>\n",
       "<table border=\"1\" class=\"dataframe\">\n",
       "  <thead>\n",
       "    <tr style=\"text-align: right;\">\n",
       "      <th></th>\n",
       "      <th>name</th>\n",
       "      <th>age</th>\n",
       "    </tr>\n",
       "  </thead>\n",
       "  <tbody>\n",
       "    <tr>\n",
       "      <th>0</th>\n",
       "      <td>철수</td>\n",
       "      <td>23</td>\n",
       "    </tr>\n",
       "    <tr>\n",
       "      <th>1</th>\n",
       "      <td>영이</td>\n",
       "      <td>34</td>\n",
       "    </tr>\n",
       "    <tr>\n",
       "      <th>2</th>\n",
       "      <td>John</td>\n",
       "      <td>19</td>\n",
       "    </tr>\n",
       "  </tbody>\n",
       "</table>\n",
       "</div>"
      ],
      "text/plain": [
       "   name  age\n",
       "0    철수   23\n",
       "1    영이   34\n",
       "2  John   19"
      ]
     },
     "execution_count": 2,
     "metadata": {},
     "output_type": "execute_result"
    }
   ],
   "source": [
    "df1 = pd.DataFrame({\n",
    "    \"name\" : [\"철수\", \"영이\", \"John\"],\n",
    "    \"age\"  : [23, 34, 19]\n",
    "})\n",
    "df1"
   ]
  },
  {
   "cell_type": "code",
   "execution_count": 3,
   "id": "13d01215",
   "metadata": {},
   "outputs": [
    {
     "data": {
      "text/html": [
       "<div>\n",
       "<style scoped>\n",
       "    .dataframe tbody tr th:only-of-type {\n",
       "        vertical-align: middle;\n",
       "    }\n",
       "\n",
       "    .dataframe tbody tr th {\n",
       "        vertical-align: top;\n",
       "    }\n",
       "\n",
       "    .dataframe thead th {\n",
       "        text-align: right;\n",
       "    }\n",
       "</style>\n",
       "<table border=\"1\" class=\"dataframe\">\n",
       "  <thead>\n",
       "    <tr style=\"text-align: right;\">\n",
       "      <th></th>\n",
       "      <th>name</th>\n",
       "      <th>sex</th>\n",
       "    </tr>\n",
       "  </thead>\n",
       "  <tbody>\n",
       "    <tr>\n",
       "      <th>0</th>\n",
       "      <td>철수</td>\n",
       "      <td>M</td>\n",
       "    </tr>\n",
       "    <tr>\n",
       "      <th>1</th>\n",
       "      <td>영이</td>\n",
       "      <td>F</td>\n",
       "    </tr>\n",
       "    <tr>\n",
       "      <th>2</th>\n",
       "      <td>John</td>\n",
       "      <td>M</td>\n",
       "    </tr>\n",
       "  </tbody>\n",
       "</table>\n",
       "</div>"
      ],
      "text/plain": [
       "   name sex\n",
       "0    철수   M\n",
       "1    영이   F\n",
       "2  John   M"
      ]
     },
     "execution_count": 3,
     "metadata": {},
     "output_type": "execute_result"
    }
   ],
   "source": [
    "df2 = pd.DataFrame({\n",
    "    \"name\" : [\"철수\", \"영이\", \"John\"],\n",
    "    \"sex\"  : [\"M\", \"F\", \"M\"]\n",
    "})\n",
    "df2"
   ]
  },
  {
   "cell_type": "markdown",
   "id": "c3c082a0",
   "metadata": {},
   "source": [
    "데이터프레임 `df1` 과 `df2` 에는 같은 이름을 가지는 열 `name` 이 있다. 우리는 두 개의 데이터프레임을 합쳐서 나이(`age`)와 성(`sex`) 이 모두 포함된 새로운 데이터프레임을 만들려고 한다.\n",
    "\n",
    "이렇게 공통으로 포함된 열의 정보를 이용하여 두 개의 데이터프레임을 결합하려면  pandas 라이브러리의 `merge()` 함수 를 이용한다.\n",
    "\n",
    "- `merge()` 함수의 첫 번째(**왼쪽**)와 두 번째 인자(**오른쪽**)에는 결합할 데이터프레임의 이름을 넣어준다. \n",
    "\n",
    "- 앞에 `pd.` 를 붙여서 `pd.merge()` 로 사용하는 것은 함수 `merge()` 가 pandas 라이브러리에 있다는 것을 알려준다.\n",
    "\n",
    "-  선택문 `on=` 에 두 데이터프레임에 **결합의 기준이 되는 열이름**을 문자열로 지정해준다. 결합의 기준으로 사용되는 열이름은 두 개의 데이터프레임에 모두 존재해야 한다.\n",
    "\n",
    "- 자료의 결합에 사용되는 공통으로 포함된 열의 내용을 **식별자(key, identifier,..)** 라고 부른다. 이 예제에서 식별자는 사람의 이름이다.   \n",
    "\n",
    "다음 코드의 결과를 먼저 보자."
   ]
  },
  {
   "cell_type": "code",
   "execution_count": 4,
   "id": "9a9fd2ca",
   "metadata": {},
   "outputs": [
    {
     "data": {
      "text/html": [
       "<div>\n",
       "<style scoped>\n",
       "    .dataframe tbody tr th:only-of-type {\n",
       "        vertical-align: middle;\n",
       "    }\n",
       "\n",
       "    .dataframe tbody tr th {\n",
       "        vertical-align: top;\n",
       "    }\n",
       "\n",
       "    .dataframe thead th {\n",
       "        text-align: right;\n",
       "    }\n",
       "</style>\n",
       "<table border=\"1\" class=\"dataframe\">\n",
       "  <thead>\n",
       "    <tr style=\"text-align: right;\">\n",
       "      <th></th>\n",
       "      <th>name</th>\n",
       "      <th>age</th>\n",
       "      <th>sex</th>\n",
       "    </tr>\n",
       "  </thead>\n",
       "  <tbody>\n",
       "    <tr>\n",
       "      <th>0</th>\n",
       "      <td>철수</td>\n",
       "      <td>23</td>\n",
       "      <td>M</td>\n",
       "    </tr>\n",
       "    <tr>\n",
       "      <th>1</th>\n",
       "      <td>영이</td>\n",
       "      <td>34</td>\n",
       "      <td>F</td>\n",
       "    </tr>\n",
       "    <tr>\n",
       "      <th>2</th>\n",
       "      <td>John</td>\n",
       "      <td>19</td>\n",
       "      <td>M</td>\n",
       "    </tr>\n",
       "  </tbody>\n",
       "</table>\n",
       "</div>"
      ],
      "text/plain": [
       "   name  age sex\n",
       "0    철수   23   M\n",
       "1    영이   34   F\n",
       "2  John   19   M"
      ]
     },
     "execution_count": 4,
     "metadata": {},
     "output_type": "execute_result"
    }
   ],
   "source": [
    "pd.merge(df1, df2, on=\"name\")"
   ]
  },
  {
   "cell_type": "markdown",
   "id": "5eb23b1f",
   "metadata": {},
   "source": [
    "두 개의 데이터프레임이 지정된 열 `name` 에 의하여 결합되어 나이(`age`)와 성(`sex`)이 같이 나타나게 된다. "
   ]
  },
  {
   "cell_type": "markdown",
   "id": "8d8d834a",
   "metadata": {},
   "source": [
    "## 식별자의 불일치 "
   ]
  },
  {
   "cell_type": "markdown",
   "id": "5247b74d",
   "metadata": {},
   "source": [
    "만약 두 개의 데이터프레임에 있는 식별자에 포함된 자료가 다르면 어떻게 될까?\n",
    "\n",
    "다음과 같이 `John` 의 자료가 빠져 있는 데이터프레임 `df3`을  `df1` 과 결합해 보자."
   ]
  },
  {
   "cell_type": "code",
   "execution_count": 5,
   "id": "276d2fe1",
   "metadata": {},
   "outputs": [
    {
     "data": {
      "text/html": [
       "<div>\n",
       "<style scoped>\n",
       "    .dataframe tbody tr th:only-of-type {\n",
       "        vertical-align: middle;\n",
       "    }\n",
       "\n",
       "    .dataframe tbody tr th {\n",
       "        vertical-align: top;\n",
       "    }\n",
       "\n",
       "    .dataframe thead th {\n",
       "        text-align: right;\n",
       "    }\n",
       "</style>\n",
       "<table border=\"1\" class=\"dataframe\">\n",
       "  <thead>\n",
       "    <tr style=\"text-align: right;\">\n",
       "      <th></th>\n",
       "      <th>name</th>\n",
       "      <th>weight</th>\n",
       "    </tr>\n",
       "  </thead>\n",
       "  <tbody>\n",
       "    <tr>\n",
       "      <th>0</th>\n",
       "      <td>철수</td>\n",
       "      <td>55</td>\n",
       "    </tr>\n",
       "    <tr>\n",
       "      <th>1</th>\n",
       "      <td>영이</td>\n",
       "      <td>44</td>\n",
       "    </tr>\n",
       "  </tbody>\n",
       "</table>\n",
       "</div>"
      ],
      "text/plain": [
       "  name  weight\n",
       "0   철수      55\n",
       "1   영이      44"
      ]
     },
     "execution_count": 5,
     "metadata": {},
     "output_type": "execute_result"
    }
   ],
   "source": [
    "df3 = pd.DataFrame({\n",
    "    \"name\" : [\"철수\", \"영이\"],\n",
    "    \"weight\"  : [55, 44]\n",
    "})\n",
    "df3"
   ]
  },
  {
   "cell_type": "code",
   "execution_count": 6,
   "id": "b529f936",
   "metadata": {},
   "outputs": [
    {
     "data": {
      "text/html": [
       "<div>\n",
       "<style scoped>\n",
       "    .dataframe tbody tr th:only-of-type {\n",
       "        vertical-align: middle;\n",
       "    }\n",
       "\n",
       "    .dataframe tbody tr th {\n",
       "        vertical-align: top;\n",
       "    }\n",
       "\n",
       "    .dataframe thead th {\n",
       "        text-align: right;\n",
       "    }\n",
       "</style>\n",
       "<table border=\"1\" class=\"dataframe\">\n",
       "  <thead>\n",
       "    <tr style=\"text-align: right;\">\n",
       "      <th></th>\n",
       "      <th>name</th>\n",
       "      <th>age</th>\n",
       "      <th>weight</th>\n",
       "    </tr>\n",
       "  </thead>\n",
       "  <tbody>\n",
       "    <tr>\n",
       "      <th>0</th>\n",
       "      <td>철수</td>\n",
       "      <td>23</td>\n",
       "      <td>55</td>\n",
       "    </tr>\n",
       "    <tr>\n",
       "      <th>1</th>\n",
       "      <td>영이</td>\n",
       "      <td>34</td>\n",
       "      <td>44</td>\n",
       "    </tr>\n",
       "  </tbody>\n",
       "</table>\n",
       "</div>"
      ],
      "text/plain": [
       "  name  age  weight\n",
       "0   철수   23      55\n",
       "1   영이   34      44"
      ]
     },
     "execution_count": 6,
     "metadata": {},
     "output_type": "execute_result"
    }
   ],
   "source": [
    "pd.merge(df1, df3, on=\"name\")"
   ]
  },
  {
   "cell_type": "markdown",
   "id": "b54672ad",
   "metadata": {},
   "source": [
    "위의 결과에서 `John` 의 자료가 사라져 버렸다. 물론 몸무게 값이 없는 `John` 의 자료가 필요없을 수도 있지만 많은 경우 자료를 유지해야 한다.\n",
    "\n",
    "이렇게 식별자의 항목이 다른 경우, 결합의 기준이 되는 식별자를 데이터프레임의 위치로 지정할 수 있다. 위에서 함수 `merge()`를 설명할 때 사용되는 데이터프레임의 위치에 따라서 **왼쪽** (첫 번째 인자) 과  **오른쪽** (두 번째 인자)으로 나타냈다.\n",
    "\n",
    "```\n",
    "pd.merge(left_df, right_df, on=\"name\", how=\"inner\")\n",
    "```\n",
    "\n",
    "- `how='left'` : 식별자는 왼쪽 데이터프레임에만 있는 것으로 선택\n",
    "- `how='right'` : 식별자는 오른쪽 데이터프레임에만 있는 것으로 선택\n",
    "- `how='inner'` : 식별자는 두 데이터프레임에 공통인 것으로 선택\n",
    "- `how='outer'` : 식별자는 두 데이터프레임에 나타난 모든 것으로 선택\n",
    "\n",
    "식별자를 선택하는 선택명령문 `how=` 을 지정하지 않으면 자동으로 `how='inner'` 이 지정된다.\n",
    "\n",
    "![merge.png](../../images/merge.png)\n",
    "\n",
    "이제 결합시 기준이 되는 식별자가 왼쪽에 있는 데이터프레임 `df1` 에 있다는 것을 선택명령문 `how='left'` 로 알려주자. "
   ]
  },
  {
   "cell_type": "code",
   "execution_count": 7,
   "id": "c42c50e2",
   "metadata": {},
   "outputs": [
    {
     "data": {
      "text/html": [
       "<div>\n",
       "<style scoped>\n",
       "    .dataframe tbody tr th:only-of-type {\n",
       "        vertical-align: middle;\n",
       "    }\n",
       "\n",
       "    .dataframe tbody tr th {\n",
       "        vertical-align: top;\n",
       "    }\n",
       "\n",
       "    .dataframe thead th {\n",
       "        text-align: right;\n",
       "    }\n",
       "</style>\n",
       "<table border=\"1\" class=\"dataframe\">\n",
       "  <thead>\n",
       "    <tr style=\"text-align: right;\">\n",
       "      <th></th>\n",
       "      <th>name</th>\n",
       "      <th>age</th>\n",
       "      <th>weight</th>\n",
       "    </tr>\n",
       "  </thead>\n",
       "  <tbody>\n",
       "    <tr>\n",
       "      <th>0</th>\n",
       "      <td>철수</td>\n",
       "      <td>23</td>\n",
       "      <td>55.0</td>\n",
       "    </tr>\n",
       "    <tr>\n",
       "      <th>1</th>\n",
       "      <td>영이</td>\n",
       "      <td>34</td>\n",
       "      <td>44.0</td>\n",
       "    </tr>\n",
       "    <tr>\n",
       "      <th>2</th>\n",
       "      <td>John</td>\n",
       "      <td>19</td>\n",
       "      <td>NaN</td>\n",
       "    </tr>\n",
       "  </tbody>\n",
       "</table>\n",
       "</div>"
      ],
      "text/plain": [
       "   name  age  weight\n",
       "0    철수   23    55.0\n",
       "1    영이   34    44.0\n",
       "2  John   19     NaN"
      ]
     },
     "execution_count": 7,
     "metadata": {},
     "output_type": "execute_result"
    }
   ],
   "source": [
    "pd.merge(df1, df3, on=\"name\", how='left')"
   ]
  },
  {
   "cell_type": "markdown",
   "id": "2b00b040",
   "metadata": {},
   "source": [
    " 이제 `John` 의 자료가 나타나고 `John` 의 키는 결측값(`NaN`) 으로 표시된다. "
   ]
  },
  {
   "cell_type": "markdown",
   "id": "7e4eacbe",
   "metadata": {},
   "source": [
    "만약 두 개의 식별자에 서로 다른 내용이 나타나면 어떻게 될까?\n",
    "\n",
    "이제 새로운 사람 `흥민`의 자료를 가진 데이터프레임 `df4`를 `df1` 과 결합하는 예를 살펴보자. 아래 코드에서 선택명령문 `how=` 에 지정된 문자열에 따라서 결합의 결과가 어떻게 다른지 보자. "
   ]
  },
  {
   "cell_type": "code",
   "execution_count": 8,
   "id": "fa1ddea9",
   "metadata": {
    "scrolled": true
   },
   "outputs": [
    {
     "data": {
      "text/html": [
       "<div>\n",
       "<style scoped>\n",
       "    .dataframe tbody tr th:only-of-type {\n",
       "        vertical-align: middle;\n",
       "    }\n",
       "\n",
       "    .dataframe tbody tr th {\n",
       "        vertical-align: top;\n",
       "    }\n",
       "\n",
       "    .dataframe thead th {\n",
       "        text-align: right;\n",
       "    }\n",
       "</style>\n",
       "<table border=\"1\" class=\"dataframe\">\n",
       "  <thead>\n",
       "    <tr style=\"text-align: right;\">\n",
       "      <th></th>\n",
       "      <th>name</th>\n",
       "      <th>height</th>\n",
       "    </tr>\n",
       "  </thead>\n",
       "  <tbody>\n",
       "    <tr>\n",
       "      <th>0</th>\n",
       "      <td>철수</td>\n",
       "      <td>167</td>\n",
       "    </tr>\n",
       "    <tr>\n",
       "      <th>1</th>\n",
       "      <td>영이</td>\n",
       "      <td>175</td>\n",
       "    </tr>\n",
       "    <tr>\n",
       "      <th>2</th>\n",
       "      <td>흥민</td>\n",
       "      <td>183</td>\n",
       "    </tr>\n",
       "  </tbody>\n",
       "</table>\n",
       "</div>"
      ],
      "text/plain": [
       "  name  height\n",
       "0   철수     167\n",
       "1   영이     175\n",
       "2   흥민     183"
      ]
     },
     "execution_count": 8,
     "metadata": {},
     "output_type": "execute_result"
    }
   ],
   "source": [
    "df4 = pd.DataFrame({\n",
    "    \"name\" : [\"철수\", \"영이\", \"흥민\"],\n",
    "    \"height\"  : [167, 175, 183]\n",
    "})\n",
    "df4"
   ]
  },
  {
   "cell_type": "markdown",
   "id": "e4f788d9",
   "metadata": {},
   "source": [
    "위에서 본 바와 같이 선택명령문 `how='left'`이  결합시 기준이 데이터프레임 `df1` 에 있다는 것을 알려준다."
   ]
  },
  {
   "cell_type": "code",
   "execution_count": 9,
   "id": "b541532e",
   "metadata": {
    "scrolled": true
   },
   "outputs": [
    {
     "data": {
      "text/html": [
       "<div>\n",
       "<style scoped>\n",
       "    .dataframe tbody tr th:only-of-type {\n",
       "        vertical-align: middle;\n",
       "    }\n",
       "\n",
       "    .dataframe tbody tr th {\n",
       "        vertical-align: top;\n",
       "    }\n",
       "\n",
       "    .dataframe thead th {\n",
       "        text-align: right;\n",
       "    }\n",
       "</style>\n",
       "<table border=\"1\" class=\"dataframe\">\n",
       "  <thead>\n",
       "    <tr style=\"text-align: right;\">\n",
       "      <th></th>\n",
       "      <th>name</th>\n",
       "      <th>age</th>\n",
       "      <th>height</th>\n",
       "    </tr>\n",
       "  </thead>\n",
       "  <tbody>\n",
       "    <tr>\n",
       "      <th>0</th>\n",
       "      <td>철수</td>\n",
       "      <td>23</td>\n",
       "      <td>167.0</td>\n",
       "    </tr>\n",
       "    <tr>\n",
       "      <th>1</th>\n",
       "      <td>영이</td>\n",
       "      <td>34</td>\n",
       "      <td>175.0</td>\n",
       "    </tr>\n",
       "    <tr>\n",
       "      <th>2</th>\n",
       "      <td>John</td>\n",
       "      <td>19</td>\n",
       "      <td>NaN</td>\n",
       "    </tr>\n",
       "  </tbody>\n",
       "</table>\n",
       "</div>"
      ],
      "text/plain": [
       "   name  age  height\n",
       "0    철수   23   167.0\n",
       "1    영이   34   175.0\n",
       "2  John   19     NaN"
      ]
     },
     "execution_count": 9,
     "metadata": {},
     "output_type": "execute_result"
    }
   ],
   "source": [
    "pd.merge(df1, df4, on=\"name\", how='left')  "
   ]
  },
  {
   "cell_type": "markdown",
   "id": "0b2ca1d8",
   "metadata": {},
   "source": [
    "선택명령문 `how='right'`이  결합시 기준이 데이터프레임 `df4` 에 있다는 것을 알려준다."
   ]
  },
  {
   "cell_type": "code",
   "execution_count": 10,
   "id": "cc9b088b",
   "metadata": {
    "scrolled": true
   },
   "outputs": [
    {
     "data": {
      "text/html": [
       "<div>\n",
       "<style scoped>\n",
       "    .dataframe tbody tr th:only-of-type {\n",
       "        vertical-align: middle;\n",
       "    }\n",
       "\n",
       "    .dataframe tbody tr th {\n",
       "        vertical-align: top;\n",
       "    }\n",
       "\n",
       "    .dataframe thead th {\n",
       "        text-align: right;\n",
       "    }\n",
       "</style>\n",
       "<table border=\"1\" class=\"dataframe\">\n",
       "  <thead>\n",
       "    <tr style=\"text-align: right;\">\n",
       "      <th></th>\n",
       "      <th>name</th>\n",
       "      <th>age</th>\n",
       "      <th>height</th>\n",
       "    </tr>\n",
       "  </thead>\n",
       "  <tbody>\n",
       "    <tr>\n",
       "      <th>0</th>\n",
       "      <td>철수</td>\n",
       "      <td>23.0</td>\n",
       "      <td>167</td>\n",
       "    </tr>\n",
       "    <tr>\n",
       "      <th>1</th>\n",
       "      <td>영이</td>\n",
       "      <td>34.0</td>\n",
       "      <td>175</td>\n",
       "    </tr>\n",
       "    <tr>\n",
       "      <th>2</th>\n",
       "      <td>흥민</td>\n",
       "      <td>NaN</td>\n",
       "      <td>183</td>\n",
       "    </tr>\n",
       "  </tbody>\n",
       "</table>\n",
       "</div>"
      ],
      "text/plain": [
       "  name   age  height\n",
       "0   철수  23.0     167\n",
       "1   영이  34.0     175\n",
       "2   흥민   NaN     183"
      ]
     },
     "execution_count": 10,
     "metadata": {},
     "output_type": "execute_result"
    }
   ],
   "source": [
    "pd.merge(df1, df4, on=\"name\", how='right') "
   ]
  },
  {
   "cell_type": "markdown",
   "id": "0fc81841",
   "metadata": {},
   "source": [
    "선택명령문 `how='inner'`이  결합시 기준이 데이터프레임 `df1` 과 `df4` 에서 공통된 것임을 알려준다."
   ]
  },
  {
   "cell_type": "code",
   "execution_count": 11,
   "id": "8368de2c",
   "metadata": {
    "scrolled": true
   },
   "outputs": [
    {
     "data": {
      "text/html": [
       "<div>\n",
       "<style scoped>\n",
       "    .dataframe tbody tr th:only-of-type {\n",
       "        vertical-align: middle;\n",
       "    }\n",
       "\n",
       "    .dataframe tbody tr th {\n",
       "        vertical-align: top;\n",
       "    }\n",
       "\n",
       "    .dataframe thead th {\n",
       "        text-align: right;\n",
       "    }\n",
       "</style>\n",
       "<table border=\"1\" class=\"dataframe\">\n",
       "  <thead>\n",
       "    <tr style=\"text-align: right;\">\n",
       "      <th></th>\n",
       "      <th>name</th>\n",
       "      <th>age</th>\n",
       "      <th>height</th>\n",
       "    </tr>\n",
       "  </thead>\n",
       "  <tbody>\n",
       "    <tr>\n",
       "      <th>0</th>\n",
       "      <td>철수</td>\n",
       "      <td>23</td>\n",
       "      <td>167</td>\n",
       "    </tr>\n",
       "    <tr>\n",
       "      <th>1</th>\n",
       "      <td>영이</td>\n",
       "      <td>34</td>\n",
       "      <td>175</td>\n",
       "    </tr>\n",
       "  </tbody>\n",
       "</table>\n",
       "</div>"
      ],
      "text/plain": [
       "  name  age  height\n",
       "0   철수   23     167\n",
       "1   영이   34     175"
      ]
     },
     "execution_count": 11,
     "metadata": {},
     "output_type": "execute_result"
    }
   ],
   "source": [
    "pd.merge(df1, df4, on=\"name\", how='inner')"
   ]
  },
  {
   "cell_type": "markdown",
   "id": "8983b2d0",
   "metadata": {},
   "source": [
    "선택명령문 `how='outer'`이  결합시 기준이 데이터프레임 `df1` 과 `df4`의 모든 것임을 알려준다."
   ]
  },
  {
   "cell_type": "code",
   "execution_count": 12,
   "id": "367b41d4",
   "metadata": {},
   "outputs": [
    {
     "data": {
      "text/html": [
       "<div>\n",
       "<style scoped>\n",
       "    .dataframe tbody tr th:only-of-type {\n",
       "        vertical-align: middle;\n",
       "    }\n",
       "\n",
       "    .dataframe tbody tr th {\n",
       "        vertical-align: top;\n",
       "    }\n",
       "\n",
       "    .dataframe thead th {\n",
       "        text-align: right;\n",
       "    }\n",
       "</style>\n",
       "<table border=\"1\" class=\"dataframe\">\n",
       "  <thead>\n",
       "    <tr style=\"text-align: right;\">\n",
       "      <th></th>\n",
       "      <th>name</th>\n",
       "      <th>age</th>\n",
       "      <th>height</th>\n",
       "    </tr>\n",
       "  </thead>\n",
       "  <tbody>\n",
       "    <tr>\n",
       "      <th>0</th>\n",
       "      <td>철수</td>\n",
       "      <td>23.0</td>\n",
       "      <td>167.0</td>\n",
       "    </tr>\n",
       "    <tr>\n",
       "      <th>1</th>\n",
       "      <td>영이</td>\n",
       "      <td>34.0</td>\n",
       "      <td>175.0</td>\n",
       "    </tr>\n",
       "    <tr>\n",
       "      <th>2</th>\n",
       "      <td>John</td>\n",
       "      <td>19.0</td>\n",
       "      <td>NaN</td>\n",
       "    </tr>\n",
       "    <tr>\n",
       "      <th>3</th>\n",
       "      <td>흥민</td>\n",
       "      <td>NaN</td>\n",
       "      <td>183.0</td>\n",
       "    </tr>\n",
       "  </tbody>\n",
       "</table>\n",
       "</div>"
      ],
      "text/plain": [
       "   name   age  height\n",
       "0    철수  23.0   167.0\n",
       "1    영이  34.0   175.0\n",
       "2  John  19.0     NaN\n",
       "3    흥민   NaN   183.0"
      ]
     },
     "execution_count": 12,
     "metadata": {},
     "output_type": "execute_result"
    }
   ],
   "source": [
    "pd.merge(df1, df4, on=\"name\", how='outer') "
   ]
  },
  {
   "cell_type": "markdown",
   "id": "657fb1d1",
   "metadata": {},
   "source": [
    "## 두 개 자료의 결합: 예제\n",
    "\n",
    "이번에는 가게금융복지 조사에서 얻은 금용에 대한 정보를 가진 자료와 소비에 대한 정보를 가진 자료를 결합하는 예제를 살펴보자.\n",
    "\n",
    "먼저 가게금융복지 조사에서 얻은 금용에 대한 정보를 가진 데이터프레임 `df1` 을 다음과 같이 만든다. "
   ]
  },
  {
   "cell_type": "code",
   "execution_count": 13,
   "id": "37ed1fdf",
   "metadata": {
    "scrolled": true
   },
   "outputs": [
    {
     "data": {
      "text/html": [
       "<div>\n",
       "<style scoped>\n",
       "    .dataframe tbody tr th:only-of-type {\n",
       "        vertical-align: middle;\n",
       "    }\n",
       "\n",
       "    .dataframe tbody tr th {\n",
       "        vertical-align: top;\n",
       "    }\n",
       "\n",
       "    .dataframe thead th {\n",
       "        text-align: right;\n",
       "    }\n",
       "</style>\n",
       "<table border=\"1\" class=\"dataframe\">\n",
       "  <thead>\n",
       "    <tr style=\"text-align: right;\">\n",
       "      <th></th>\n",
       "      <th>조사연도</th>\n",
       "      <th>가구고유번호</th>\n",
       "      <th>수도권여부</th>\n",
       "      <th>가구주_성별코드</th>\n",
       "      <th>가구원수</th>\n",
       "      <th>부채보유여부</th>\n",
       "      <th>자산금액</th>\n",
       "      <th>부채금액</th>\n",
       "      <th>근로소득</th>\n",
       "      <th>사업소득</th>\n",
       "      <th>재산소득</th>\n",
       "    </tr>\n",
       "  </thead>\n",
       "  <tbody>\n",
       "    <tr>\n",
       "      <th>0</th>\n",
       "      <td>2016</td>\n",
       "      <td>10200111</td>\n",
       "      <td>수도권</td>\n",
       "      <td>남자</td>\n",
       "      <td>4</td>\n",
       "      <td>부채 보유</td>\n",
       "      <td>76202</td>\n",
       "      <td>22200</td>\n",
       "      <td>4000</td>\n",
       "      <td>5000</td>\n",
       "      <td>0</td>\n",
       "    </tr>\n",
       "    <tr>\n",
       "      <th>1</th>\n",
       "      <td>2016</td>\n",
       "      <td>10200121</td>\n",
       "      <td>수도권</td>\n",
       "      <td>남자</td>\n",
       "      <td>4</td>\n",
       "      <td>부채 보유</td>\n",
       "      <td>116466</td>\n",
       "      <td>45000</td>\n",
       "      <td>3000</td>\n",
       "      <td>0</td>\n",
       "      <td>0</td>\n",
       "    </tr>\n",
       "    <tr>\n",
       "      <th>2</th>\n",
       "      <td>2016</td>\n",
       "      <td>10200151</td>\n",
       "      <td>수도권</td>\n",
       "      <td>여자</td>\n",
       "      <td>3</td>\n",
       "      <td>부채 보유</td>\n",
       "      <td>125360</td>\n",
       "      <td>8000</td>\n",
       "      <td>12600</td>\n",
       "      <td>0</td>\n",
       "      <td>0</td>\n",
       "    </tr>\n",
       "    <tr>\n",
       "      <th>3</th>\n",
       "      <td>2016</td>\n",
       "      <td>10200161</td>\n",
       "      <td>수도권</td>\n",
       "      <td>남자</td>\n",
       "      <td>5</td>\n",
       "      <td>부채 보유</td>\n",
       "      <td>79406</td>\n",
       "      <td>25500</td>\n",
       "      <td>0</td>\n",
       "      <td>4200</td>\n",
       "      <td>0</td>\n",
       "    </tr>\n",
       "    <tr>\n",
       "      <th>4</th>\n",
       "      <td>2016</td>\n",
       "      <td>10200171</td>\n",
       "      <td>수도권</td>\n",
       "      <td>남자</td>\n",
       "      <td>2</td>\n",
       "      <td>부채 보유</td>\n",
       "      <td>45600</td>\n",
       "      <td>27800</td>\n",
       "      <td>12420</td>\n",
       "      <td>0</td>\n",
       "      <td>0</td>\n",
       "    </tr>\n",
       "  </tbody>\n",
       "</table>\n",
       "</div>"
      ],
      "text/plain": [
       "   조사연도    가구고유번호 수도권여부 가구주_성별코드  가구원수 부채보유여부    자산금액   부채금액   근로소득  사업소득  \\\n",
       "0  2016  10200111   수도권       남자     4  부채 보유   76202  22200   4000  5000   \n",
       "1  2016  10200121   수도권       남자     4  부채 보유  116466  45000   3000     0   \n",
       "2  2016  10200151   수도권       여자     3  부채 보유  125360   8000  12600     0   \n",
       "3  2016  10200161   수도권       남자     5  부채 보유   79406  25500      0  4200   \n",
       "4  2016  10200171   수도권       남자     2  부채 보유   45600  27800  12420     0   \n",
       "\n",
       "   재산소득  \n",
       "0     0  \n",
       "1     0  \n",
       "2     0  \n",
       "3     0  \n",
       "4     0  "
      ]
     },
     "execution_count": 13,
     "metadata": {},
     "output_type": "execute_result"
    }
   ],
   "source": [
    "df1 = pd.read_csv(\"https://uos-bigdata.github.io/lab_data/docs/assets/data_lab_depart/2016_housemasterdata_part1.csv\", encoding='cp949',index_col=False)\n",
    "df1 = df1[['조사연도','가구고유번호','수도권여부','가구주_성별코드','가구원수', '부채보유여부',\t'자산금액',\t'부채금액',\t'근로소득',\t'사업소득', '재산소득']]\n",
    "df1.head(5)\n",
    "           "
   ]
  },
  {
   "cell_type": "markdown",
   "id": "a01aa777",
   "metadata": {},
   "source": [
    "다음으로 같은 조사에서 얻어진 가구별 소비와 지출에 대한 자료를 불러외서 데이터프레임 `df2`를 만든다."
   ]
  },
  {
   "cell_type": "code",
   "execution_count": 14,
   "id": "c823712a",
   "metadata": {},
   "outputs": [
    {
     "data": {
      "text/html": [
       "<div>\n",
       "<style scoped>\n",
       "    .dataframe tbody tr th:only-of-type {\n",
       "        vertical-align: middle;\n",
       "    }\n",
       "\n",
       "    .dataframe tbody tr th {\n",
       "        vertical-align: top;\n",
       "    }\n",
       "\n",
       "    .dataframe thead th {\n",
       "        text-align: right;\n",
       "    }\n",
       "</style>\n",
       "<table border=\"1\" class=\"dataframe\">\n",
       "  <thead>\n",
       "    <tr style=\"text-align: right;\">\n",
       "      <th></th>\n",
       "      <th>가구고유번호</th>\n",
       "      <th>소비지출</th>\n",
       "      <th>지출_소비지출_식료품_외식비</th>\n",
       "      <th>지출_소비지출_주거비</th>\n",
       "      <th>지출_소비지출_교육비_보육료포함</th>\n",
       "      <th>지출_소비지출_의료비</th>\n",
       "      <th>지출_소비지출_교통비</th>\n",
       "      <th>지출_소비지출_통신비</th>\n",
       "      <th>지출_소비지출_경조비및기타소비지출</th>\n",
       "    </tr>\n",
       "  </thead>\n",
       "  <tbody>\n",
       "    <tr>\n",
       "      <th>0</th>\n",
       "      <td>10200111</td>\n",
       "      <td>0</td>\n",
       "      <td>0</td>\n",
       "      <td>0</td>\n",
       "      <td>0</td>\n",
       "      <td>0</td>\n",
       "      <td>0</td>\n",
       "      <td>0</td>\n",
       "      <td>0</td>\n",
       "    </tr>\n",
       "    <tr>\n",
       "      <th>1</th>\n",
       "      <td>10200121</td>\n",
       "      <td>0</td>\n",
       "      <td>0</td>\n",
       "      <td>0</td>\n",
       "      <td>0</td>\n",
       "      <td>0</td>\n",
       "      <td>0</td>\n",
       "      <td>0</td>\n",
       "      <td>0</td>\n",
       "    </tr>\n",
       "    <tr>\n",
       "      <th>2</th>\n",
       "      <td>10200151</td>\n",
       "      <td>3430</td>\n",
       "      <td>800</td>\n",
       "      <td>390</td>\n",
       "      <td>0</td>\n",
       "      <td>200</td>\n",
       "      <td>430</td>\n",
       "      <td>310</td>\n",
       "      <td>1300</td>\n",
       "    </tr>\n",
       "    <tr>\n",
       "      <th>3</th>\n",
       "      <td>10200161</td>\n",
       "      <td>3176</td>\n",
       "      <td>1200</td>\n",
       "      <td>240</td>\n",
       "      <td>960</td>\n",
       "      <td>36</td>\n",
       "      <td>120</td>\n",
       "      <td>240</td>\n",
       "      <td>380</td>\n",
       "    </tr>\n",
       "    <tr>\n",
       "      <th>4</th>\n",
       "      <td>10200171</td>\n",
       "      <td>2905</td>\n",
       "      <td>1060</td>\n",
       "      <td>190</td>\n",
       "      <td>0</td>\n",
       "      <td>35</td>\n",
       "      <td>700</td>\n",
       "      <td>120</td>\n",
       "      <td>800</td>\n",
       "    </tr>\n",
       "  </tbody>\n",
       "</table>\n",
       "</div>"
      ],
      "text/plain": [
       "     가구고유번호  소비지출  지출_소비지출_식료품_외식비  지출_소비지출_주거비  지출_소비지출_교육비_보육료포함  \\\n",
       "0  10200111     0                0            0                  0   \n",
       "1  10200121     0                0            0                  0   \n",
       "2  10200151  3430              800          390                  0   \n",
       "3  10200161  3176             1200          240                960   \n",
       "4  10200171  2905             1060          190                  0   \n",
       "\n",
       "   지출_소비지출_의료비  지출_소비지출_교통비  지출_소비지출_통신비  지출_소비지출_경조비및기타소비지출  \n",
       "0            0            0            0                   0  \n",
       "1            0            0            0                   0  \n",
       "2          200          430          310                1300  \n",
       "3           36          120          240                 380  \n",
       "4           35          700          120                 800  "
      ]
     },
     "execution_count": 14,
     "metadata": {},
     "output_type": "execute_result"
    }
   ],
   "source": [
    "df2 = pd.read_csv(\"https://uos-bigdata.github.io/lab_data/docs/assets/data_lab_depart/2016_housemasterdata_part2.csv\", encoding='cp949',index_col=False)\n",
    "df2.head(5)"
   ]
  },
  {
   "cell_type": "markdown",
   "id": "e1772387",
   "metadata": {},
   "source": [
    "이제 두 개의 데이터프레임 `df1` 과 `df2` 를 `가구고유번호` 를 식별자로 하여 결합해 보자. "
   ]
  },
  {
   "cell_type": "code",
   "execution_count": 15,
   "id": "9fe07e39",
   "metadata": {},
   "outputs": [
    {
     "data": {
      "text/html": [
       "<div>\n",
       "<style scoped>\n",
       "    .dataframe tbody tr th:only-of-type {\n",
       "        vertical-align: middle;\n",
       "    }\n",
       "\n",
       "    .dataframe tbody tr th {\n",
       "        vertical-align: top;\n",
       "    }\n",
       "\n",
       "    .dataframe thead th {\n",
       "        text-align: right;\n",
       "    }\n",
       "</style>\n",
       "<table border=\"1\" class=\"dataframe\">\n",
       "  <thead>\n",
       "    <tr style=\"text-align: right;\">\n",
       "      <th></th>\n",
       "      <th>조사연도</th>\n",
       "      <th>가구고유번호</th>\n",
       "      <th>수도권여부</th>\n",
       "      <th>가구주_성별코드</th>\n",
       "      <th>가구원수</th>\n",
       "      <th>부채보유여부</th>\n",
       "      <th>자산금액</th>\n",
       "      <th>부채금액</th>\n",
       "      <th>근로소득</th>\n",
       "      <th>사업소득</th>\n",
       "      <th>재산소득</th>\n",
       "      <th>소비지출</th>\n",
       "      <th>지출_소비지출_식료품_외식비</th>\n",
       "      <th>지출_소비지출_주거비</th>\n",
       "      <th>지출_소비지출_교육비_보육료포함</th>\n",
       "      <th>지출_소비지출_의료비</th>\n",
       "      <th>지출_소비지출_교통비</th>\n",
       "      <th>지출_소비지출_통신비</th>\n",
       "      <th>지출_소비지출_경조비및기타소비지출</th>\n",
       "    </tr>\n",
       "  </thead>\n",
       "  <tbody>\n",
       "    <tr>\n",
       "      <th>0</th>\n",
       "      <td>2016</td>\n",
       "      <td>10200111</td>\n",
       "      <td>수도권</td>\n",
       "      <td>남자</td>\n",
       "      <td>4</td>\n",
       "      <td>부채 보유</td>\n",
       "      <td>76202</td>\n",
       "      <td>22200</td>\n",
       "      <td>4000</td>\n",
       "      <td>5000</td>\n",
       "      <td>0</td>\n",
       "      <td>0</td>\n",
       "      <td>0</td>\n",
       "      <td>0</td>\n",
       "      <td>0</td>\n",
       "      <td>0</td>\n",
       "      <td>0</td>\n",
       "      <td>0</td>\n",
       "      <td>0</td>\n",
       "    </tr>\n",
       "    <tr>\n",
       "      <th>1</th>\n",
       "      <td>2016</td>\n",
       "      <td>10200121</td>\n",
       "      <td>수도권</td>\n",
       "      <td>남자</td>\n",
       "      <td>4</td>\n",
       "      <td>부채 보유</td>\n",
       "      <td>116466</td>\n",
       "      <td>45000</td>\n",
       "      <td>3000</td>\n",
       "      <td>0</td>\n",
       "      <td>0</td>\n",
       "      <td>0</td>\n",
       "      <td>0</td>\n",
       "      <td>0</td>\n",
       "      <td>0</td>\n",
       "      <td>0</td>\n",
       "      <td>0</td>\n",
       "      <td>0</td>\n",
       "      <td>0</td>\n",
       "    </tr>\n",
       "    <tr>\n",
       "      <th>2</th>\n",
       "      <td>2016</td>\n",
       "      <td>10200151</td>\n",
       "      <td>수도권</td>\n",
       "      <td>여자</td>\n",
       "      <td>3</td>\n",
       "      <td>부채 보유</td>\n",
       "      <td>125360</td>\n",
       "      <td>8000</td>\n",
       "      <td>12600</td>\n",
       "      <td>0</td>\n",
       "      <td>0</td>\n",
       "      <td>3430</td>\n",
       "      <td>800</td>\n",
       "      <td>390</td>\n",
       "      <td>0</td>\n",
       "      <td>200</td>\n",
       "      <td>430</td>\n",
       "      <td>310</td>\n",
       "      <td>1300</td>\n",
       "    </tr>\n",
       "    <tr>\n",
       "      <th>3</th>\n",
       "      <td>2016</td>\n",
       "      <td>10200161</td>\n",
       "      <td>수도권</td>\n",
       "      <td>남자</td>\n",
       "      <td>5</td>\n",
       "      <td>부채 보유</td>\n",
       "      <td>79406</td>\n",
       "      <td>25500</td>\n",
       "      <td>0</td>\n",
       "      <td>4200</td>\n",
       "      <td>0</td>\n",
       "      <td>3176</td>\n",
       "      <td>1200</td>\n",
       "      <td>240</td>\n",
       "      <td>960</td>\n",
       "      <td>36</td>\n",
       "      <td>120</td>\n",
       "      <td>240</td>\n",
       "      <td>380</td>\n",
       "    </tr>\n",
       "    <tr>\n",
       "      <th>4</th>\n",
       "      <td>2016</td>\n",
       "      <td>10200171</td>\n",
       "      <td>수도권</td>\n",
       "      <td>남자</td>\n",
       "      <td>2</td>\n",
       "      <td>부채 보유</td>\n",
       "      <td>45600</td>\n",
       "      <td>27800</td>\n",
       "      <td>12420</td>\n",
       "      <td>0</td>\n",
       "      <td>0</td>\n",
       "      <td>2905</td>\n",
       "      <td>1060</td>\n",
       "      <td>190</td>\n",
       "      <td>0</td>\n",
       "      <td>35</td>\n",
       "      <td>700</td>\n",
       "      <td>120</td>\n",
       "      <td>800</td>\n",
       "    </tr>\n",
       "  </tbody>\n",
       "</table>\n",
       "</div>"
      ],
      "text/plain": [
       "   조사연도    가구고유번호 수도권여부 가구주_성별코드  가구원수 부채보유여부    자산금액   부채금액   근로소득  사업소득  \\\n",
       "0  2016  10200111   수도권       남자     4  부채 보유   76202  22200   4000  5000   \n",
       "1  2016  10200121   수도권       남자     4  부채 보유  116466  45000   3000     0   \n",
       "2  2016  10200151   수도권       여자     3  부채 보유  125360   8000  12600     0   \n",
       "3  2016  10200161   수도권       남자     5  부채 보유   79406  25500      0  4200   \n",
       "4  2016  10200171   수도권       남자     2  부채 보유   45600  27800  12420     0   \n",
       "\n",
       "   재산소득  소비지출  지출_소비지출_식료품_외식비  지출_소비지출_주거비  지출_소비지출_교육비_보육료포함  지출_소비지출_의료비  \\\n",
       "0     0     0                0            0                  0            0   \n",
       "1     0     0                0            0                  0            0   \n",
       "2     0  3430              800          390                  0          200   \n",
       "3     0  3176             1200          240                960           36   \n",
       "4     0  2905             1060          190                  0           35   \n",
       "\n",
       "   지출_소비지출_교통비  지출_소비지출_통신비  지출_소비지출_경조비및기타소비지출  \n",
       "0            0            0                   0  \n",
       "1            0            0                   0  \n",
       "2          430          310                1300  \n",
       "3          120          240                 380  \n",
       "4          700          120                 800  "
      ]
     },
     "execution_count": 15,
     "metadata": {},
     "output_type": "execute_result"
    }
   ],
   "source": [
    "df_m = pd.merge(df1, df2, on=\"가구고유번호\", how='left')  \n",
    "df_m.head(5)"
   ]
  },
  {
   "cell_type": "markdown",
   "id": "100ce85a",
   "metadata": {},
   "source": [
    "두 데이터프레임의 크기가 같고 구성원이 같기 때문에 결합된 데이터프레임도 같은 수의 자료를 가진다."
   ]
  },
  {
   "cell_type": "code",
   "execution_count": 16,
   "id": "27454159",
   "metadata": {},
   "outputs": [
    {
     "data": {
      "text/plain": [
       "(18273, 11)"
      ]
     },
     "execution_count": 16,
     "metadata": {},
     "output_type": "execute_result"
    }
   ],
   "source": [
    "df1.shape"
   ]
  },
  {
   "cell_type": "code",
   "execution_count": 17,
   "id": "076bfdd9",
   "metadata": {},
   "outputs": [
    {
     "data": {
      "text/plain": [
       "(18273, 9)"
      ]
     },
     "execution_count": 17,
     "metadata": {},
     "output_type": "execute_result"
    }
   ],
   "source": [
    "df2.shape"
   ]
  },
  {
   "cell_type": "code",
   "execution_count": 18,
   "id": "d821367e",
   "metadata": {},
   "outputs": [
    {
     "data": {
      "text/plain": [
       "(18273, 19)"
      ]
     },
     "execution_count": 18,
     "metadata": {},
     "output_type": "execute_result"
    }
   ],
   "source": [
    "df_m.shape"
   ]
  },
  {
   "cell_type": "markdown",
   "id": "8ad17e36",
   "metadata": {},
   "source": [
    "## 요약\n",
    "\n",
    "두 개의 데이터프레임을 결합하는 경우 pandas 라이브러리의 함수 `merge()` 를 사용하며 식별자가 포함된 공통의 열은 `on=` 으로 지정한다. 결합의 방향을 `how=`로 지정한다."
   ]
  }
 ],
 "metadata": {
  "kernelspec": {
   "display_name": "Python 3 (ipykernel)",
   "language": "python",
   "name": "python3"
  },
  "language_info": {
   "codemirror_mode": {
    "name": "ipython",
    "version": 3
   },
   "file_extension": ".py",
   "mimetype": "text/x-python",
   "name": "python",
   "nbconvert_exporter": "python",
   "pygments_lexer": "ipython3",
   "version": "3.9.13"
  }
 },
 "nbformat": 4,
 "nbformat_minor": 5
}
