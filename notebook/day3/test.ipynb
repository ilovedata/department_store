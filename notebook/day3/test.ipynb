{
 "cells": [
  {
   "cell_type": "markdown",
   "metadata": {
    "id": "KzYxMWDCyIUE"
   },
   "source": [
    "# 평가 문제"
   ]
  },
  {
   "cell_type": "markdown",
   "metadata": {
    "id": "P9vZkEPpywF2"
   },
   "source": [
    "- 각 문제를 읽고 답안지에 \n",
    "  + 선택형 문제는 해답의 번호를 쓰시오.\n",
    "  + 코드를 작성하는 문제는 직접 코드를 쓰시요.\n",
    "  \n",
    "- 답안지는 별도로 MS 워드 방식의 화일을 메일로 배포하며 답안을 기입한 후 제출하시면 됩니다.\n",
    "\n",
    "- 총문제는 14 문제이며 총점은 100점입니다.\n",
    "\n",
    "\n",
    "아래는 필요한 라이브러리를 불러오는 코드셀입니다. 반드시 평가를 시작할 때 먼저 실행시키고 문제에서 적절하게 이용하세요.\n",
    "\n",
    "\n"
   ]
  },
  {
   "cell_type": "code",
   "execution_count": 2,
   "metadata": {
    "id": "BmQYA543GQIs"
   },
   "outputs": [],
   "source": [
    "import math\n",
    "import numpy as np\n",
    "import pandas as pd"
   ]
  },
  {
   "cell_type": "markdown",
   "metadata": {
    "id": "uP0-0szz2oo7"
   },
   "source": [
    "## 1. 표현식"
   ]
  },
  {
   "attachments": {},
   "cell_type": "markdown",
   "metadata": {
    "id": "xwJVRFL22s-e"
   },
   "source": [
    "**문제 1** [5점]\n",
    "\n",
    "다음 중 오류가 나는 표현식을 선택하세요. \n",
    "\n",
    "1.  `\"A\" + \"B\"`\n",
    "2.  `1 + \"2\"` \n",
    "3.  `1 + 0.5`\n",
    "4.  `1 + 100`\n"
   ]
  },
  {
   "attachments": {},
   "cell_type": "markdown",
   "metadata": {
    "id": "RpIaIg5l7NWA"
   },
   "source": [
    "**문제 2** [5점]\n",
    "\n",
    "아래 코드가 실행되었다고 하자.\n",
    "\n",
    "```\n",
    "a = [1, 2]\n",
    "b = [3, 4]\n",
    "c = [1, 2, b, \"A\", a]\n",
    "```\n",
    "\n",
    "다음 표현식의 결과는 무었인지 선택하시오. \n",
    "\n",
    "```\n",
    "c[2]\n",
    "```\n",
    "\n",
    "1. `2`\n",
    "2. `[1, 2]`\n",
    "3. `[3, 4]`\n",
    "4. `'A'`"
   ]
  },
  {
   "attachments": {},
   "cell_type": "markdown",
   "metadata": {
    "id": "vLbdtmjX8sab"
   },
   "source": [
    "**문제 3** [5점]\n",
    "\n",
    "다음 제시된 코드가 실행되었을 때 결과는 무었인지 선택하시오. \n",
    " \n",
    "```\n",
    "a = [1,2,3,4,5]\n",
    "a[1] + a[5]\n",
    "```\n",
    "\n",
    "1. 5\n",
    "2. 6\n",
    "3. 7\n",
    "4. 오류 \n"
   ]
  },
  {
   "cell_type": "markdown",
   "metadata": {
    "id": "mnZC600B_Jr7"
   },
   "source": [
    "## 2. 문자열"
   ]
  },
  {
   "attachments": {},
   "cell_type": "markdown",
   "metadata": {
    "id": "QxAfI7Ed_PKE"
   },
   "source": [
    "**문제 1** [5점]\n",
    "\n",
    "다음의 파이썬 코드를 실행하였을 때 결과를 제시하시오. 만약 코드의 결과가 오류이면 ERROR로 쓰시오\n",
    "\n",
    "```\n",
    "a = \"1234ABC\"\n",
    "a[1:5]\n",
    "```\n",
    " "
   ]
  },
  {
   "attachments": {},
   "cell_type": "markdown",
   "metadata": {
    "id": "E8kBI-djJFcC"
   },
   "source": [
    "**문제 2** [5점]\n",
    "\n",
    "다음과 같은 코드가 실행되었다고 하자.\n",
    "\n",
    "```\n",
    "i = '하'\n",
    "j = '웃으셨다'\n",
    "k = '아버지가'\n",
    "l = '크게'\n",
    "p = ' '\n",
    "```\n",
    "\n",
    "다음 표현식의 결과가 무었인지 선택하시오.\n",
    "\n",
    "```\n",
    "k + p + j + p + i*3 + p + l\n",
    "```\n",
    "\n",
    "1. `아버지가 웃으셨다 하하하 크게`\n",
    "2. `아버지가 하하하 크게 웃으셨다`\n",
    "3. `아버지가 크게 하하하 웃우셨다`\n",
    "4.  오류"
   ]
  },
  {
   "cell_type": "markdown",
   "metadata": {},
   "source": [
    "**문제 3** [5점]\n",
    "\n",
    "문자열을 출력하면 다음과 같은 결과가 나타나도록 변수 x 에 적절한 문자열을 입력하는 파이썬 코드를 작성하시오.\n",
    "\n",
    "```\n",
    "그는 \"사랑해\" 라고 외쳤다 \n",
    "```"
   ]
  },
  {
   "cell_type": "markdown",
   "metadata": {
    "id": "JVvWQ3yj4dMg"
   },
   "source": [
    "## 3. 데이터프레임"
   ]
  },
  {
   "cell_type": "markdown",
   "metadata": {
    "id": "OqS9pYiyEUNt"
   },
   "source": [
    "다음은  데이터프레임을 만드는 코드이다.\n",
    "\n",
    "```\n",
    "df = pd.DataFrame(\n",
    "    { 'name' : ['이철수', '김영희', '홍길동', 'John Smith', 'Mary Doe'],\n",
    "      'sex'  : ['M', 'F', 'M', 'M', 'F'],\n",
    "      'age'  : [ 23, 25, 21, 33, 45],\n",
    "      'height' : [153.5, 175.3, 163.4, 180.0, 165.7]\n",
    "    } )\n",
    "```\n",
    "\n",
    "위의 코드가 실행되었다고 가정하고 아래 문제 1 - 문제 4 번까지 답하시오."
   ]
  },
  {
   "attachments": {},
   "cell_type": "markdown",
   "metadata": {
    "id": "R-78htSk7WNI"
   },
   "source": [
    "**문제 1** [5점]\n",
    "\n",
    "데이터프레임 `df` 에서 두 개의 열 `sex` 와 `height` 만 선택(슬라이싱)하여 변수 `df_1` 에 저장하는 코드을 제시하시오. \n"
   ]
  },
  {
   "attachments": {},
   "cell_type": "markdown",
   "metadata": {
    "id": "wSvETMB-93dS"
   },
   "source": [
    "**문제 2** [10점]\n",
    "\n",
    "데이터프레임 `df` 에서 **키가 170 이상인 남자** 만으로 구성된  자료를 선택하여 변수 `df_2` 에 저장하는 코드을 제시하시오. "
   ]
  },
  {
   "cell_type": "markdown",
   "metadata": {},
   "source": [
    "**문제 3** [5점]\n",
    "\n",
    "데이터프레임 `df` 를 **연령의 내림차순으로 정렬** 하는 코드를 제시하시오. "
   ]
  },
  {
   "cell_type": "markdown",
   "metadata": {},
   "source": [
    "**문제 4** [10점]\n",
    "\n",
    "데이터프레임 `df`에서 남여별로 키의 평균을 구하는 코드를 제시하시오. "
   ]
  },
  {
   "cell_type": "markdown",
   "metadata": {},
   "source": [
    "## 4. 취업, 실업, 가구수 자료"
   ]
  },
  {
   "cell_type": "markdown",
   "metadata": {},
   "source": [
    "경제활동인구조사는 국민의 경제활동(취업, 실업, 노동력 등) 특성을 조사함으로써 경제 분석과 인력자원의 개발정책 수립에 필요한 기초 자료를 제공하는 조사이다.\n",
    "\n",
    "자료 화일 [employment.csv](https://uos-bigdata.github.io/lab_data/docs/assets/data_lab_depart/employment.csv\") 에는 2011년에서 2020년까지 우리나라의 15세 이상인구, 경제활동인구와 취업에 대한 남여별  인원수가 천명 단위로 주어져 있다.\n",
    "\n",
    "각 변수에 대한 설명은 다음과 같다. **인구수가 천명 단위인 것에 유의하자.**\n",
    "\n",
    "- `year` : 연도\n",
    "- `pop_15_m` : 남자 15세 이상인구(천명)\n",
    "- `pop_15_f` : 여자 15세 이상인구(천명)\n",
    "- `pop_eco_m` : 남자 경제활동인구(취업자+실업자)(천명)\n",
    "- `pop_eco_f` : 여자 경제활동인구(취업자+실업자) (천명)\n",
    "- `emp_m` : 남자 취업자 (천명)\n",
    "- `emp_f` : 여자 취업자 (천명)\n",
    "\n",
    "경제활동인구는 만 15세 이상 인구 중 취업자와 실업자를 말한다. \n",
    "\n",
    "아래 코드를 실행해서 [employment.csv](https://uos-bigdata.github.io/lab_data/docs/assets/data_lab_depart/employment.csv\") 에 있는 자료를 데이터프레임 `employ` 에 저장하자."
   ]
  },
  {
   "cell_type": "code",
   "execution_count": 19,
   "metadata": {},
   "outputs": [],
   "source": [
    "url = \"https://uos-bigdata.github.io/lab_data/docs/assets/data_lab_depart/employment.csv\"\n",
    "employ = pd.read_csv(url, encoding=\"CP949\")"
   ]
  },
  {
   "cell_type": "markdown",
   "metadata": {},
   "source": [
    "데이터프레임 `employ` 의 자료 구성은 다음과 같다."
   ]
  },
  {
   "cell_type": "code",
   "execution_count": 20,
   "metadata": {},
   "outputs": [
    {
     "data": {
      "text/html": [
       "<div>\n",
       "<style scoped>\n",
       "    .dataframe tbody tr th:only-of-type {\n",
       "        vertical-align: middle;\n",
       "    }\n",
       "\n",
       "    .dataframe tbody tr th {\n",
       "        vertical-align: top;\n",
       "    }\n",
       "\n",
       "    .dataframe thead th {\n",
       "        text-align: right;\n",
       "    }\n",
       "</style>\n",
       "<table border=\"1\" class=\"dataframe\">\n",
       "  <thead>\n",
       "    <tr style=\"text-align: right;\">\n",
       "      <th></th>\n",
       "      <th>year</th>\n",
       "      <th>pop15_m</th>\n",
       "      <th>pop15_f</th>\n",
       "      <th>popeco_m</th>\n",
       "      <th>popeco_f</th>\n",
       "      <th>emp_m</th>\n",
       "      <th>emp_f</th>\n",
       "    </tr>\n",
       "  </thead>\n",
       "  <tbody>\n",
       "    <tr>\n",
       "      <th>0</th>\n",
       "      <td>2011</td>\n",
       "      <td>20269</td>\n",
       "      <td>21119</td>\n",
       "      <td>14869</td>\n",
       "      <td>10520</td>\n",
       "      <td>14333</td>\n",
       "      <td>10193</td>\n",
       "    </tr>\n",
       "    <tr>\n",
       "      <th>1</th>\n",
       "      <td>2012</td>\n",
       "      <td>20501</td>\n",
       "      <td>21356</td>\n",
       "      <td>15077</td>\n",
       "      <td>10704</td>\n",
       "      <td>14568</td>\n",
       "      <td>10387</td>\n",
       "    </tr>\n",
       "    <tr>\n",
       "      <th>2</th>\n",
       "      <td>2013</td>\n",
       "      <td>20728</td>\n",
       "      <td>21576</td>\n",
       "      <td>15245</td>\n",
       "      <td>10862</td>\n",
       "      <td>14745</td>\n",
       "      <td>10554</td>\n",
       "    </tr>\n",
       "    <tr>\n",
       "      <th>3</th>\n",
       "      <td>2014</td>\n",
       "      <td>20989</td>\n",
       "      <td>21806</td>\n",
       "      <td>15607</td>\n",
       "      <td>11229</td>\n",
       "      <td>15057</td>\n",
       "      <td>10840</td>\n",
       "    </tr>\n",
       "    <tr>\n",
       "      <th>4</th>\n",
       "      <td>2015</td>\n",
       "      <td>21222</td>\n",
       "      <td>22018</td>\n",
       "      <td>15728</td>\n",
       "      <td>11426</td>\n",
       "      <td>15156</td>\n",
       "      <td>11022</td>\n",
       "    </tr>\n",
       "    <tr>\n",
       "      <th>5</th>\n",
       "      <td>2016</td>\n",
       "      <td>21401</td>\n",
       "      <td>22205</td>\n",
       "      <td>15836</td>\n",
       "      <td>11583</td>\n",
       "      <td>15241</td>\n",
       "      <td>11168</td>\n",
       "    </tr>\n",
       "    <tr>\n",
       "      <th>6</th>\n",
       "      <td>2017</td>\n",
       "      <td>21573</td>\n",
       "      <td>22357</td>\n",
       "      <td>15975</td>\n",
       "      <td>11773</td>\n",
       "      <td>15368</td>\n",
       "      <td>11356</td>\n",
       "    </tr>\n",
       "    <tr>\n",
       "      <th>7</th>\n",
       "      <td>2018</td>\n",
       "      <td>21699</td>\n",
       "      <td>22484</td>\n",
       "      <td>16002</td>\n",
       "      <td>11893</td>\n",
       "      <td>15372</td>\n",
       "      <td>11450</td>\n",
       "    </tr>\n",
       "    <tr>\n",
       "      <th>8</th>\n",
       "      <td>2019</td>\n",
       "      <td>21886</td>\n",
       "      <td>22618</td>\n",
       "      <td>16090</td>\n",
       "      <td>12097</td>\n",
       "      <td>15463</td>\n",
       "      <td>11660</td>\n",
       "    </tr>\n",
       "    <tr>\n",
       "      <th>9</th>\n",
       "      <td>2020</td>\n",
       "      <td>22035</td>\n",
       "      <td>22750</td>\n",
       "      <td>16005</td>\n",
       "      <td>12007</td>\n",
       "      <td>15381</td>\n",
       "      <td>11523</td>\n",
       "    </tr>\n",
       "  </tbody>\n",
       "</table>\n",
       "</div>"
      ],
      "text/plain": [
       "   year  pop15_m  pop15_f  popeco_m  popeco_f  emp_m  emp_f\n",
       "0  2011    20269    21119     14869     10520  14333  10193\n",
       "1  2012    20501    21356     15077     10704  14568  10387\n",
       "2  2013    20728    21576     15245     10862  14745  10554\n",
       "3  2014    20989    21806     15607     11229  15057  10840\n",
       "4  2015    21222    22018     15728     11426  15156  11022\n",
       "5  2016    21401    22205     15836     11583  15241  11168\n",
       "6  2017    21573    22357     15975     11773  15368  11356\n",
       "7  2018    21699    22484     16002     11893  15372  11450\n",
       "8  2019    21886    22618     16090     12097  15463  11660\n",
       "9  2020    22035    22750     16005     12007  15381  11523"
      ]
     },
     "execution_count": 20,
     "metadata": {},
     "output_type": "execute_result"
    }
   ],
   "source": [
    "employ"
   ]
  },
  {
   "cell_type": "markdown",
   "metadata": {},
   "source": [
    "**문제 1** [10점]\n",
    "\n",
    "데이터프레임 `employ` 는 모든 인구가 남여로 나누어져 있다. 다음과 같이 남여를 합한 열들을 데이터프레임 `employ`에 새로 추가하는 코드를 제시하시오.\n",
    "\n",
    "- `pop15` : 15세 이상 전체 인구(천명)\n",
    "- `popeco` : 전체 경제활동인구(취업자+실업자)(천명)\n",
    "- `emp` : 전체 취업자 (천명)\n"
   ]
  },
  {
   "cell_type": "markdown",
   "metadata": {},
   "source": [
    "**문제 2** [10점]\n",
    "\n",
    "고용율는 취업자가 전체 15세 이상인구에서 차지하는 비율을 말한다.\n",
    "\n",
    "고용율(%) = (전체 취업자의 수 / 전체 15세 이상 인구수) * 100\n",
    "\n",
    "**고용율** 을 계산하여 열이름 `employ_rate` 로 데이터프레임 `employ`에  추가하는 코드를 제시하시오. "
   ]
  },
  {
   "cell_type": "markdown",
   "metadata": {},
   "source": [
    "\n",
    "---\n",
    "\n",
    "다음 사용할 자료는 통계청 국가통계포털 에서 받은 인구총조사(등록센서스) 자료이다. 데이터는 시도별로 6년의 가구수를\n",
    " 가구의 구성 인원별로 나누어 놓은 자료이다. 각 열에 대한 정보는 다음과 같다.\n",
    "\n",
    "- `year` : 년도\n",
    "- `region` : 시도 \n",
    "- `p1` : 1인 가구의 수\n",
    "- `p2` : 2인 가구의 수\n",
    "- ..........\n",
    "- `p6` : 6인 가구의 수\n",
    "- `p7plus` : 7인 이상 가구의 수\n",
    "\n",
    "이제 우리나라 가구수 자료를 다음과 같이 데이터프레임 `house`로 저장하자.\n"
   ]
  },
  {
   "cell_type": "code",
   "execution_count": 7,
   "metadata": {},
   "outputs": [],
   "source": [
    "url2 = \"https://uos-bigdata.github.io/lab_data/docs/assets/data_lab_depart/house_final.csv\"\n",
    "house = pd.read_csv(url2, encoding=\"utf-8\")"
   ]
  },
  {
   "cell_type": "code",
   "execution_count": 8,
   "metadata": {},
   "outputs": [
    {
     "data": {
      "text/html": [
       "<div>\n",
       "<style scoped>\n",
       "    .dataframe tbody tr th:only-of-type {\n",
       "        vertical-align: middle;\n",
       "    }\n",
       "\n",
       "    .dataframe tbody tr th {\n",
       "        vertical-align: top;\n",
       "    }\n",
       "\n",
       "    .dataframe thead th {\n",
       "        text-align: right;\n",
       "    }\n",
       "</style>\n",
       "<table border=\"1\" class=\"dataframe\">\n",
       "  <thead>\n",
       "    <tr style=\"text-align: right;\">\n",
       "      <th></th>\n",
       "      <th>year</th>\n",
       "      <th>region</th>\n",
       "      <th>p1</th>\n",
       "      <th>p2</th>\n",
       "      <th>p3</th>\n",
       "      <th>p4</th>\n",
       "      <th>p5</th>\n",
       "      <th>p6</th>\n",
       "      <th>p7plus</th>\n",
       "    </tr>\n",
       "  </thead>\n",
       "  <tbody>\n",
       "    <tr>\n",
       "      <th>0</th>\n",
       "      <td>2015</td>\n",
       "      <td>서울특별시</td>\n",
       "      <td>1115744</td>\n",
       "      <td>930467</td>\n",
       "      <td>817440</td>\n",
       "      <td>701945</td>\n",
       "      <td>169436</td>\n",
       "      <td>38547</td>\n",
       "      <td>10911</td>\n",
       "    </tr>\n",
       "    <tr>\n",
       "      <th>1</th>\n",
       "      <td>2015</td>\n",
       "      <td>부산광역시</td>\n",
       "      <td>361749</td>\n",
       "      <td>366048</td>\n",
       "      <td>296742</td>\n",
       "      <td>238031</td>\n",
       "      <td>56971</td>\n",
       "      <td>12928</td>\n",
       "      <td>3431</td>\n",
       "    </tr>\n",
       "    <tr>\n",
       "      <th>2</th>\n",
       "      <td>2015</td>\n",
       "      <td>대구광역시</td>\n",
       "      <td>239517</td>\n",
       "      <td>239824</td>\n",
       "      <td>208795</td>\n",
       "      <td>184258</td>\n",
       "      <td>44071</td>\n",
       "      <td>9582</td>\n",
       "      <td>2481</td>\n",
       "    </tr>\n",
       "    <tr>\n",
       "      <th>3</th>\n",
       "      <td>2015</td>\n",
       "      <td>인천광역시</td>\n",
       "      <td>243678</td>\n",
       "      <td>265079</td>\n",
       "      <td>245135</td>\n",
       "      <td>220538</td>\n",
       "      <td>55230</td>\n",
       "      <td>12253</td>\n",
       "      <td>3504</td>\n",
       "    </tr>\n",
       "    <tr>\n",
       "      <th>4</th>\n",
       "      <td>2015</td>\n",
       "      <td>광주광역시</td>\n",
       "      <td>163577</td>\n",
       "      <td>137662</td>\n",
       "      <td>115701</td>\n",
       "      <td>109612</td>\n",
       "      <td>32199</td>\n",
       "      <td>6647</td>\n",
       "      <td>1759</td>\n",
       "    </tr>\n",
       "    <tr>\n",
       "      <th>...</th>\n",
       "      <td>...</td>\n",
       "      <td>...</td>\n",
       "      <td>...</td>\n",
       "      <td>...</td>\n",
       "      <td>...</td>\n",
       "      <td>...</td>\n",
       "      <td>...</td>\n",
       "      <td>...</td>\n",
       "      <td>...</td>\n",
       "    </tr>\n",
       "    <tr>\n",
       "      <th>97</th>\n",
       "      <td>2020</td>\n",
       "      <td>전라북도</td>\n",
       "      <td>255269</td>\n",
       "      <td>233334</td>\n",
       "      <td>134414</td>\n",
       "      <td>96907</td>\n",
       "      <td>27962</td>\n",
       "      <td>5920</td>\n",
       "      <td>1769</td>\n",
       "    </tr>\n",
       "    <tr>\n",
       "      <th>98</th>\n",
       "      <td>2020</td>\n",
       "      <td>전라남도</td>\n",
       "      <td>256633</td>\n",
       "      <td>251506</td>\n",
       "      <td>131372</td>\n",
       "      <td>87883</td>\n",
       "      <td>26561</td>\n",
       "      <td>5727</td>\n",
       "      <td>1836</td>\n",
       "    </tr>\n",
       "    <tr>\n",
       "      <th>99</th>\n",
       "      <td>2020</td>\n",
       "      <td>경상북도</td>\n",
       "      <td>388791</td>\n",
       "      <td>363061</td>\n",
       "      <td>202539</td>\n",
       "      <td>137092</td>\n",
       "      <td>32174</td>\n",
       "      <td>6388</td>\n",
       "      <td>1774</td>\n",
       "    </tr>\n",
       "    <tr>\n",
       "      <th>100</th>\n",
       "      <td>2020</td>\n",
       "      <td>경상남도</td>\n",
       "      <td>417737</td>\n",
       "      <td>399700</td>\n",
       "      <td>270061</td>\n",
       "      <td>205658</td>\n",
       "      <td>46516</td>\n",
       "      <td>8410</td>\n",
       "      <td>2073</td>\n",
       "    </tr>\n",
       "    <tr>\n",
       "      <th>101</th>\n",
       "      <td>2020</td>\n",
       "      <td>제주특별자치도</td>\n",
       "      <td>81855</td>\n",
       "      <td>74308</td>\n",
       "      <td>49903</td>\n",
       "      <td>38747</td>\n",
       "      <td>13719</td>\n",
       "      <td>3380</td>\n",
       "      <td>1156</td>\n",
       "    </tr>\n",
       "  </tbody>\n",
       "</table>\n",
       "<p>102 rows × 9 columns</p>\n",
       "</div>"
      ],
      "text/plain": [
       "     year   region       p1      p2      p3      p4      p5     p6  p7plus\n",
       "0    2015    서울특별시  1115744  930467  817440  701945  169436  38547   10911\n",
       "1    2015    부산광역시   361749  366048  296742  238031   56971  12928    3431\n",
       "2    2015    대구광역시   239517  239824  208795  184258   44071   9582    2481\n",
       "3    2015    인천광역시   243678  265079  245135  220538   55230  12253    3504\n",
       "4    2015    광주광역시   163577  137662  115701  109612   32199   6647    1759\n",
       "..    ...      ...      ...     ...     ...     ...     ...    ...     ...\n",
       "97   2020     전라북도   255269  233334  134414   96907   27962   5920    1769\n",
       "98   2020     전라남도   256633  251506  131372   87883   26561   5727    1836\n",
       "99   2020     경상북도   388791  363061  202539  137092   32174   6388    1774\n",
       "100  2020     경상남도   417737  399700  270061  205658   46516   8410    2073\n",
       "101  2020  제주특별자치도    81855   74308   49903   38747   13719   3380    1156\n",
       "\n",
       "[102 rows x 9 columns]"
      ]
     },
     "execution_count": 8,
     "metadata": {},
     "output_type": "execute_result"
    }
   ],
   "source": [
    "house"
   ]
  },
  {
   "cell_type": "markdown",
   "metadata": {},
   "source": [
    "**문제 3** [15점]\n",
    "\n",
    "데이터프레임 `house` 를 이용하여 연도별로 우리 나라 총가구를 구하고 연도(`year`)와 해당 연도의 총 가구수(`totsl_house`)로 구성된 2개의 열을 가진 새로운 데이터프레임 `house2`를 만드는 코드를 제시히시오.\n",
    "\n",
    "새로 만드어야할 데이터프레임 `house2` 의 열과 자료은 다음과 같아야 한다.\n",
    "\n",
    "```\n",
    "    year\ttotal_house\n",
    "0\t2015\t19111030\n",
    "1\t2016\t19367696\n",
    "2\t2017\t19673875\n",
    "3\t2018\t19979188\n",
    "4\t2019\t20343188\n",
    "5\t2020\t20926710\n",
    "```\n",
    "\n",
    "[힌트] \n",
    "- 먼저 데이터프레임 `house` 를 연도(`year`)로 그룹화하고 각 열의 년도별 합을 구한다. 이때 사용하는 파이썬 코드의 일부는 다음과 같다.\n",
    "\n",
    "```\n",
    "house2 = .....groupby( by= ..... ).sum()....\n",
    "``` \n",
    "\n",
    "- 다음으로 1인 가구부터 7인 이상 가구의 열들을 모두 더해서 총 가구 수를 계산하고 새로운 열 `total_house` 를 추가한다. 이때 사용하는 파이썬 코드의 일부는 다음과 유사하다.\n",
    "\n",
    "```\n",
    "..... = house2.p1 + house2.p2 + ... + house2.p7plus\n",
    "```\n",
    "\n",
    "또는\n",
    "\n",
    "```\n",
    "....... = house2[ [\"p1\",\"p2\",......,\"p7plus\"] ].sum(axis=1)\n",
    "```\n",
    "\n",
    "- 이제 두 개의 열 `year` 과 `total_house` 를 선택하여 다시 `house2` 에 저장한다.    "
   ]
  },
  {
   "cell_type": "markdown",
   "metadata": {},
   "source": []
  },
  {
   "cell_type": "markdown",
   "metadata": {},
   "source": [
    "**문제 4** [10점]\n",
    "\n",
    "\n",
    "경제활동인구의 정보가 저장된  데이터프레임 `employ` 와 문제 3에서 먼든 데이터프레임 `house2` 을 연도(`year`)를 기준으로 결합(merge)한 새로운 데이터프레임 `combine` 을 만드는 코드를  제시하시오.\n",
    "\n"
   ]
  },
  {
   "cell_type": "markdown",
   "metadata": {},
   "source": []
  }
 ],
 "metadata": {
  "colab": {
   "collapsed_sections": [],
   "provenance": []
  },
  "kernelspec": {
   "display_name": "Python 3 (ipykernel)",
   "language": "python",
   "name": "python3"
  },
  "language_info": {
   "codemirror_mode": {
    "name": "ipython",
    "version": 3
   },
   "file_extension": ".py",
   "mimetype": "text/x-python",
   "name": "python",
   "nbconvert_exporter": "python",
   "pygments_lexer": "ipython3",
   "version": "3.9.13"
  }
 },
 "nbformat": 4,
 "nbformat_minor": 1
}
